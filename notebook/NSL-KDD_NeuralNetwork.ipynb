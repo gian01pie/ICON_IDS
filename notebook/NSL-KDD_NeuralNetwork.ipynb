{
 "cells": [
  {
   "cell_type": "code",
   "execution_count": 1,
   "outputs": [],
   "source": [
    "import pandas as pd\n",
    "import numpy as np\n",
    "import matplotlib.pyplot as plt\n",
    "import seaborn as sns\n",
    "from sklearn.model_selection import GridSearchCV, StratifiedKFold, cross_val_score\n",
    "from sklearn.metrics import classification_report, confusion_matrix, ConfusionMatrixDisplay, make_scorer, precision_score, accuracy_score, recall_score, f1_score, roc_auc_score\n",
    "\n",
    "from sklearn.model_selection import train_test_split\n",
    "from sklearn.preprocessing import StandardScaler, OneHotEncoder\n",
    "from tensorflow.keras.models import Sequential\n",
    "from tensorflow.keras.layers import Dense\n",
    "from tensorflow.keras.optimizers import Adam"
   ],
   "metadata": {
    "collapsed": false,
    "ExecuteTime": {
     "start_time": "2023-11-08T23:45:22.056225Z",
     "end_time": "2023-11-08T23:45:26.293841Z"
    }
   }
  },
  {
   "cell_type": "code",
   "execution_count": 2,
   "metadata": {
    "collapsed": true,
    "ExecuteTime": {
     "start_time": "2023-11-08T23:45:30.385065Z",
     "end_time": "2023-11-08T23:45:30.402039Z"
    }
   },
   "outputs": [],
   "source": [
    "\n",
    "from IPython.display import Markdown, display\n",
    "\n",
    "def print_classification_report_md(y_true, y_pred):\n",
    "    # Generate classification report\n",
    "    report = classification_report(y_true, y_pred, output_dict=True)\n",
    "\n",
    "    # Build Markdown string for the table\n",
    "    markdown_str = \"| Class | Precision | Recall | F1 Score | Support |\\n| --- | --- | --- | --- | --- |\\n\"\n",
    "    for key, value in report.items():\n",
    "        if key == 'accuracy':\n",
    "            # Skip the accuracy since it's not part of the per-class report\n",
    "            continue\n",
    "        if isinstance(value, dict):  # Check if the value is a metrics dictionary\n",
    "            markdown_str += f\"| {key} | {value['precision']:.2f} | {value['recall']:.2f} | {value['f1-score']:.2f} | {value['support']} |\\n\"\n",
    "\n",
    "    # Print the overall accuracy as well\n",
    "    overall_accuracy = report.get('accuracy', None)\n",
    "    if overall_accuracy is not None:\n",
    "        markdown_str += f\"| **Overall** | | | **Accuracy** | {overall_accuracy:.2f} |\\n\"\n",
    "\n",
    "    # Display using Markdown\n",
    "    display(Markdown(markdown_str))"
   ]
  },
  {
   "cell_type": "code",
   "execution_count": 15,
   "outputs": [],
   "source": [
    "train_set_url_20_balanced = \"data/KDDTrain_20%_balanced.csv\"\n",
    "test_set_url_20 = \"data/KDDTest_for20%_processed.csv\"\n",
    "\n",
    "df_train = pd.read_csv(train_set_url_20_balanced)\n",
    "df_test = pd.read_csv(test_set_url_20)\n",
    "\n",
    "# Split the dataset into features and target\n",
    "X = df_train.drop('attack_class', axis=1)\n",
    "y = df_train['attack_class']\n",
    "\n",
    "X_test = df_test.drop('attack_class', axis=1)\n",
    "y_test = df_test['attack_class']"
   ],
   "metadata": {
    "collapsed": false,
    "ExecuteTime": {
     "start_time": "2023-11-08T23:53:48.831508Z",
     "end_time": "2023-11-08T23:53:50.335100Z"
    }
   }
  },
  {
   "cell_type": "code",
   "execution_count": 16,
   "outputs": [],
   "source": [
    "# Convert the Series to a numpy array and then reshape it to be 2D\n",
    "y = y.values.reshape(-1, 1)\n",
    "y_test = y_test.values.reshape(-1, 1)\n",
    "\n",
    "# Initialize the OneHotEncoder\n",
    "encoder = OneHotEncoder(sparse_output=False)\n",
    "\n",
    "# Fit and transform the training labels\n",
    "y_encoded = encoder.fit_transform(y)\n",
    "\n",
    "# Transform the test labels\n",
    "y_test_encoded = encoder.transform(y_test)"
   ],
   "metadata": {
    "collapsed": false,
    "ExecuteTime": {
     "start_time": "2023-11-08T23:53:53.648416Z",
     "end_time": "2023-11-08T23:53:53.669086Z"
    }
   }
  },
  {
   "cell_type": "code",
   "execution_count": 17,
   "outputs": [],
   "source": [
    "# Define the neural network architecture\n",
    "model = Sequential([\n",
    "    Dense(128, input_shape=(X.shape[1],), activation='relu'),\n",
    "    Dense(64, activation='relu'),\n",
    "    Dense(y_encoded.shape[1], activation='softmax')\n",
    "])"
   ],
   "metadata": {
    "collapsed": false,
    "ExecuteTime": {
     "start_time": "2023-11-08T23:53:56.112908Z",
     "end_time": "2023-11-08T23:53:56.152536Z"
    }
   }
  },
  {
   "cell_type": "code",
   "execution_count": 18,
   "outputs": [],
   "source": [
    "# Compile the model\n",
    "model.compile(optimizer=Adam(), loss='categorical_crossentropy', metrics=['accuracy'])"
   ],
   "metadata": {
    "collapsed": false,
    "ExecuteTime": {
     "start_time": "2023-11-08T23:53:58.920540Z",
     "end_time": "2023-11-08T23:53:58.943493Z"
    }
   }
  },
  {
   "cell_type": "code",
   "execution_count": 19,
   "outputs": [
    {
     "name": "stdout",
     "output_type": "stream",
     "text": [
      "Model: \"sequential_2\"\n",
      "_________________________________________________________________\n",
      " Layer (type)                Output Shape              Param #   \n",
      "=================================================================\n",
      " dense_4 (Dense)             (None, 128)               15104     \n",
      "                                                                 \n",
      " dense_5 (Dense)             (None, 64)                8256      \n",
      "                                                                 \n",
      " dense_6 (Dense)             (None, 5)                 325       \n",
      "                                                                 \n",
      "=================================================================\n",
      "Total params: 23685 (92.52 KB)\n",
      "Trainable params: 23685 (92.52 KB)\n",
      "Non-trainable params: 0 (0.00 Byte)\n",
      "_________________________________________________________________\n"
     ]
    }
   ],
   "source": [
    "# summary of model_nn layers\n",
    "model.summary()"
   ],
   "metadata": {
    "collapsed": false,
    "ExecuteTime": {
     "start_time": "2023-11-08T23:54:00.994154Z",
     "end_time": "2023-11-08T23:54:01.012357Z"
    }
   }
  },
  {
   "cell_type": "code",
   "execution_count": 20,
   "outputs": [
    {
     "name": "stdout",
     "output_type": "stream",
     "text": [
      "Epoch 1/100\n",
      "2094/2094 [==============================] - 5s 2ms/step - loss: 0.0792 - accuracy: 0.9762 - val_loss: 1.6049 - val_accuracy: 0.7952\n",
      "Epoch 2/100\n",
      "2094/2094 [==============================] - 4s 2ms/step - loss: 0.0227 - accuracy: 0.9933 - val_loss: 2.2346 - val_accuracy: 0.7826\n",
      "Epoch 3/100\n",
      "2094/2094 [==============================] - 4s 2ms/step - loss: 0.0154 - accuracy: 0.9954 - val_loss: 2.8532 - val_accuracy: 0.7703\n",
      "Epoch 4/100\n",
      "2094/2094 [==============================] - 4s 2ms/step - loss: 0.0109 - accuracy: 0.9968 - val_loss: 3.0312 - val_accuracy: 0.7675\n",
      "Epoch 5/100\n",
      "2094/2094 [==============================] - 4s 2ms/step - loss: 0.0099 - accuracy: 0.9971 - val_loss: 3.3378 - val_accuracy: 0.7850\n",
      "Epoch 6/100\n",
      "2094/2094 [==============================] - 4s 2ms/step - loss: 0.0107 - accuracy: 0.9977 - val_loss: 3.6918 - val_accuracy: 0.7728\n",
      "Epoch 7/100\n",
      "2094/2094 [==============================] - 4s 2ms/step - loss: 0.0073 - accuracy: 0.9978 - val_loss: 4.1377 - val_accuracy: 0.7739\n",
      "Epoch 8/100\n",
      "2094/2094 [==============================] - 3s 2ms/step - loss: 0.0058 - accuracy: 0.9985 - val_loss: 4.2079 - val_accuracy: 0.7793\n",
      "Epoch 9/100\n",
      "2094/2094 [==============================] - 4s 2ms/step - loss: 0.0060 - accuracy: 0.9983 - val_loss: 4.8670 - val_accuracy: 0.7617\n",
      "Epoch 10/100\n",
      "2094/2094 [==============================] - 4s 2ms/step - loss: 0.0060 - accuracy: 0.9983 - val_loss: 4.5980 - val_accuracy: 0.7961\n",
      "Epoch 11/100\n",
      "2094/2094 [==============================] - 4s 2ms/step - loss: 0.0044 - accuracy: 0.9986 - val_loss: 4.7346 - val_accuracy: 0.7803\n",
      "Epoch 12/100\n",
      "2094/2094 [==============================] - 4s 2ms/step - loss: 0.0035 - accuracy: 0.9989 - val_loss: 5.7677 - val_accuracy: 0.7761\n",
      "Epoch 13/100\n",
      "2094/2094 [==============================] - 3s 2ms/step - loss: 0.0040 - accuracy: 0.9987 - val_loss: 5.4898 - val_accuracy: 0.7820\n",
      "Epoch 14/100\n",
      "2094/2094 [==============================] - 4s 2ms/step - loss: 0.0048 - accuracy: 0.9989 - val_loss: 5.8917 - val_accuracy: 0.7907\n",
      "Epoch 15/100\n",
      "2094/2094 [==============================] - 4s 2ms/step - loss: 0.0057 - accuracy: 0.9990 - val_loss: 6.5741 - val_accuracy: 0.7750\n",
      "Epoch 16/100\n",
      "2094/2094 [==============================] - 4s 2ms/step - loss: 0.0027 - accuracy: 0.9992 - val_loss: 6.6571 - val_accuracy: 0.7755\n",
      "Epoch 17/100\n",
      "2094/2094 [==============================] - 4s 2ms/step - loss: 0.0033 - accuracy: 0.9991 - val_loss: 6.3745 - val_accuracy: 0.7740\n",
      "Epoch 18/100\n",
      "2094/2094 [==============================] - 4s 2ms/step - loss: 0.0040 - accuracy: 0.9991 - val_loss: 7.0404 - val_accuracy: 0.7734\n",
      "Epoch 19/100\n",
      "2094/2094 [==============================] - 4s 2ms/step - loss: 0.0027 - accuracy: 0.9991 - val_loss: 6.8072 - val_accuracy: 0.7755\n",
      "Epoch 20/100\n",
      "2094/2094 [==============================] - 4s 2ms/step - loss: 0.0023 - accuracy: 0.9992 - val_loss: 7.6295 - val_accuracy: 0.7716\n",
      "Epoch 21/100\n",
      "2094/2094 [==============================] - 4s 2ms/step - loss: 0.0030 - accuracy: 0.9991 - val_loss: 7.3010 - val_accuracy: 0.7430\n",
      "Epoch 22/100\n",
      "2094/2094 [==============================] - 3s 2ms/step - loss: 0.0024 - accuracy: 0.9993 - val_loss: 7.6194 - val_accuracy: 0.7653\n",
      "Epoch 23/100\n",
      "2094/2094 [==============================] - 4s 2ms/step - loss: 0.0019 - accuracy: 0.9995 - val_loss: 8.0401 - val_accuracy: 0.7668\n",
      "Epoch 24/100\n",
      "2094/2094 [==============================] - 3s 2ms/step - loss: 0.0025 - accuracy: 0.9992 - val_loss: 7.2555 - val_accuracy: 0.7685\n",
      "Epoch 25/100\n",
      "2094/2094 [==============================] - 4s 2ms/step - loss: 0.0028 - accuracy: 0.9994 - val_loss: 7.8388 - val_accuracy: 0.7583\n",
      "Epoch 26/100\n",
      "2094/2094 [==============================] - 3s 2ms/step - loss: 0.0071 - accuracy: 0.9990 - val_loss: 8.0833 - val_accuracy: 0.7589\n",
      "Epoch 27/100\n",
      "2094/2094 [==============================] - 4s 2ms/step - loss: 0.0022 - accuracy: 0.9994 - val_loss: 8.7341 - val_accuracy: 0.7544\n",
      "Epoch 28/100\n",
      "2094/2094 [==============================] - 4s 2ms/step - loss: 0.0016 - accuracy: 0.9996 - val_loss: 8.4140 - val_accuracy: 0.7611\n",
      "Epoch 29/100\n",
      "2094/2094 [==============================] - 4s 2ms/step - loss: 0.0023 - accuracy: 0.9994 - val_loss: 8.4295 - val_accuracy: 0.7575\n",
      "Epoch 30/100\n",
      "2094/2094 [==============================] - 4s 2ms/step - loss: 0.0019 - accuracy: 0.9995 - val_loss: 8.4761 - val_accuracy: 0.7633\n",
      "Epoch 31/100\n",
      "2094/2094 [==============================] - 4s 2ms/step - loss: 0.0023 - accuracy: 0.9994 - val_loss: 8.3364 - val_accuracy: 0.7852\n",
      "Epoch 32/100\n",
      "2094/2094 [==============================] - 3s 2ms/step - loss: 0.0018 - accuracy: 0.9994 - val_loss: 8.8607 - val_accuracy: 0.7632\n",
      "Epoch 33/100\n",
      "2094/2094 [==============================] - 4s 2ms/step - loss: 0.0014 - accuracy: 0.9995 - val_loss: 8.8893 - val_accuracy: 0.7627\n",
      "Epoch 34/100\n",
      "2094/2094 [==============================] - 4s 2ms/step - loss: 0.0012 - accuracy: 0.9997 - val_loss: 8.4483 - val_accuracy: 0.7674\n",
      "Epoch 35/100\n",
      "2094/2094 [==============================] - 3s 2ms/step - loss: 0.0022 - accuracy: 0.9993 - val_loss: 8.7502 - val_accuracy: 0.7672\n",
      "Epoch 36/100\n",
      "2094/2094 [==============================] - 3s 2ms/step - loss: 0.0015 - accuracy: 0.9995 - val_loss: 9.1335 - val_accuracy: 0.7674\n",
      "Epoch 37/100\n",
      "2094/2094 [==============================] - 3s 2ms/step - loss: 0.0012 - accuracy: 0.9997 - val_loss: 10.2896 - val_accuracy: 0.7791\n",
      "Epoch 38/100\n",
      "2094/2094 [==============================] - 4s 2ms/step - loss: 0.0013 - accuracy: 0.9997 - val_loss: 9.5801 - val_accuracy: 0.7718\n",
      "Epoch 39/100\n",
      "2094/2094 [==============================] - 4s 2ms/step - loss: 0.0020 - accuracy: 0.9995 - val_loss: 8.9878 - val_accuracy: 0.7827\n",
      "Epoch 40/100\n",
      "2094/2094 [==============================] - 4s 2ms/step - loss: 0.0020 - accuracy: 0.9996 - val_loss: 10.0623 - val_accuracy: 0.7837\n",
      "Epoch 41/100\n",
      "2094/2094 [==============================] - 3s 2ms/step - loss: 0.0019 - accuracy: 0.9996 - val_loss: 10.0214 - val_accuracy: 0.7831\n",
      "Epoch 42/100\n",
      "2094/2094 [==============================] - 4s 2ms/step - loss: 9.1048e-04 - accuracy: 0.9998 - val_loss: 10.6845 - val_accuracy: 0.7824\n",
      "Epoch 43/100\n",
      "2094/2094 [==============================] - 4s 2ms/step - loss: 9.4284e-04 - accuracy: 0.9997 - val_loss: 10.4952 - val_accuracy: 0.7844\n",
      "Epoch 44/100\n",
      "2094/2094 [==============================] - 4s 2ms/step - loss: 0.0016 - accuracy: 0.9996 - val_loss: 10.1567 - val_accuracy: 0.7796\n",
      "Epoch 45/100\n",
      "2094/2094 [==============================] - 3s 2ms/step - loss: 0.0010 - accuracy: 0.9997 - val_loss: 10.5172 - val_accuracy: 0.7770\n",
      "Epoch 46/100\n",
      "2094/2094 [==============================] - 3s 2ms/step - loss: 0.0012 - accuracy: 0.9996 - val_loss: 10.3206 - val_accuracy: 0.7655\n",
      "Epoch 47/100\n",
      "2094/2094 [==============================] - 4s 2ms/step - loss: 0.0021 - accuracy: 0.9997 - val_loss: 10.8534 - val_accuracy: 0.7611\n",
      "Epoch 48/100\n",
      "2094/2094 [==============================] - 3s 2ms/step - loss: 0.0053 - accuracy: 0.9996 - val_loss: 13.0635 - val_accuracy: 0.7848\n",
      "Epoch 49/100\n",
      "2094/2094 [==============================] - 3s 2ms/step - loss: 0.0013 - accuracy: 0.9997 - val_loss: 13.3616 - val_accuracy: 0.7889\n",
      "Epoch 50/100\n",
      "2094/2094 [==============================] - 3s 2ms/step - loss: 9.7222e-04 - accuracy: 0.9996 - val_loss: 13.2911 - val_accuracy: 0.7718\n",
      "Epoch 51/100\n",
      "2094/2094 [==============================] - 4s 2ms/step - loss: 0.0037 - accuracy: 0.9995 - val_loss: 12.4239 - val_accuracy: 0.7658\n",
      "Epoch 52/100\n",
      "2094/2094 [==============================] - 4s 2ms/step - loss: 7.8609e-04 - accuracy: 0.9997 - val_loss: 13.3644 - val_accuracy: 0.7612\n",
      "Epoch 53/100\n",
      "2094/2094 [==============================] - 3s 2ms/step - loss: 0.0011 - accuracy: 0.9998 - val_loss: 13.4162 - val_accuracy: 0.7804\n",
      "Epoch 54/100\n",
      "2094/2094 [==============================] - 4s 2ms/step - loss: 9.7077e-04 - accuracy: 0.9997 - val_loss: 13.2128 - val_accuracy: 0.7648\n",
      "Epoch 55/100\n",
      "2094/2094 [==============================] - 3s 2ms/step - loss: 9.4611e-04 - accuracy: 0.9998 - val_loss: 12.8613 - val_accuracy: 0.7763\n",
      "Epoch 56/100\n",
      "2094/2094 [==============================] - 3s 2ms/step - loss: 0.0015 - accuracy: 0.9996 - val_loss: 14.4919 - val_accuracy: 0.7728\n",
      "Epoch 57/100\n",
      "2094/2094 [==============================] - 4s 2ms/step - loss: 9.6519e-04 - accuracy: 0.9997 - val_loss: 15.5248 - val_accuracy: 0.7665\n",
      "Epoch 58/100\n",
      "2094/2094 [==============================] - 3s 2ms/step - loss: 9.2167e-04 - accuracy: 0.9997 - val_loss: 15.1722 - val_accuracy: 0.7641\n",
      "Epoch 59/100\n",
      "2094/2094 [==============================] - 4s 2ms/step - loss: 5.1459e-04 - accuracy: 0.9999 - val_loss: 16.1720 - val_accuracy: 0.7719\n",
      "Epoch 60/100\n",
      "2094/2094 [==============================] - 3s 2ms/step - loss: 8.4325e-04 - accuracy: 0.9997 - val_loss: 15.8044 - val_accuracy: 0.7747\n",
      "Epoch 61/100\n",
      "2094/2094 [==============================] - 3s 2ms/step - loss: 9.6148e-04 - accuracy: 0.9997 - val_loss: 16.3162 - val_accuracy: 0.7783\n",
      "Epoch 62/100\n",
      "2094/2094 [==============================] - 3s 2ms/step - loss: 0.0033 - accuracy: 0.9994 - val_loss: 15.0041 - val_accuracy: 0.7596\n",
      "Epoch 63/100\n",
      "2094/2094 [==============================] - 4s 2ms/step - loss: 0.0010 - accuracy: 0.9997 - val_loss: 16.3602 - val_accuracy: 0.7630\n",
      "Epoch 64/100\n",
      "2094/2094 [==============================] - 4s 2ms/step - loss: 0.0011 - accuracy: 0.9998 - val_loss: 16.7472 - val_accuracy: 0.7641\n",
      "Epoch 65/100\n",
      "2094/2094 [==============================] - 4s 2ms/step - loss: 7.8630e-04 - accuracy: 0.9997 - val_loss: 17.5880 - val_accuracy: 0.7513\n",
      "Epoch 66/100\n",
      "2094/2094 [==============================] - 3s 2ms/step - loss: 8.0616e-04 - accuracy: 0.9997 - val_loss: 17.6566 - val_accuracy: 0.7520\n",
      "Epoch 67/100\n",
      "2094/2094 [==============================] - 4s 2ms/step - loss: 4.9260e-04 - accuracy: 0.9999 - val_loss: 17.6601 - val_accuracy: 0.7535\n",
      "Epoch 68/100\n",
      "2094/2094 [==============================] - 3s 2ms/step - loss: 0.0019 - accuracy: 0.9996 - val_loss: 18.2877 - val_accuracy: 0.7432\n",
      "Epoch 69/100\n",
      "2094/2094 [==============================] - 4s 2ms/step - loss: 0.0074 - accuracy: 0.9997 - val_loss: 17.1083 - val_accuracy: 0.7535\n",
      "Epoch 70/100\n",
      "2094/2094 [==============================] - 4s 2ms/step - loss: 0.0013 - accuracy: 0.9997 - val_loss: 17.1622 - val_accuracy: 0.7507\n",
      "Epoch 71/100\n",
      "2094/2094 [==============================] - 4s 2ms/step - loss: 0.0017 - accuracy: 0.9996 - val_loss: 16.8956 - val_accuracy: 0.7516\n",
      "Epoch 72/100\n",
      "2094/2094 [==============================] - 3s 2ms/step - loss: 6.7753e-04 - accuracy: 0.9998 - val_loss: 15.4842 - val_accuracy: 0.7583\n",
      "Epoch 73/100\n",
      "2094/2094 [==============================] - 4s 2ms/step - loss: 8.0521e-04 - accuracy: 0.9998 - val_loss: 15.3949 - val_accuracy: 0.7655\n",
      "Epoch 74/100\n",
      "2094/2094 [==============================] - 4s 2ms/step - loss: 8.7173e-04 - accuracy: 0.9998 - val_loss: 16.5714 - val_accuracy: 0.7578\n",
      "Epoch 75/100\n",
      "2094/2094 [==============================] - 3s 2ms/step - loss: 0.0019 - accuracy: 0.9997 - val_loss: 16.2545 - val_accuracy: 0.7763\n",
      "Epoch 76/100\n",
      "2094/2094 [==============================] - 4s 2ms/step - loss: 0.0030 - accuracy: 0.9996 - val_loss: 17.8757 - val_accuracy: 0.7778\n",
      "Epoch 77/100\n",
      "2094/2094 [==============================] - 3s 2ms/step - loss: 6.4340e-04 - accuracy: 0.9999 - val_loss: 17.0710 - val_accuracy: 0.7794\n",
      "Epoch 78/100\n",
      "2094/2094 [==============================] - 3s 2ms/step - loss: 7.4800e-04 - accuracy: 0.9998 - val_loss: 17.4485 - val_accuracy: 0.7783\n",
      "Epoch 79/100\n",
      "2094/2094 [==============================] - 3s 2ms/step - loss: 4.8655e-04 - accuracy: 0.9999 - val_loss: 18.0241 - val_accuracy: 0.7805\n",
      "Epoch 80/100\n",
      "2094/2094 [==============================] - 3s 2ms/step - loss: 9.3739e-04 - accuracy: 0.9998 - val_loss: 16.9719 - val_accuracy: 0.7845\n",
      "Epoch 81/100\n",
      "2094/2094 [==============================] - 3s 2ms/step - loss: 4.6548e-04 - accuracy: 0.9999 - val_loss: 18.3595 - val_accuracy: 0.7662\n",
      "Epoch 82/100\n",
      "2094/2094 [==============================] - 4s 2ms/step - loss: 9.6942e-04 - accuracy: 0.9997 - val_loss: 17.3127 - val_accuracy: 0.7760\n",
      "Epoch 83/100\n",
      "2094/2094 [==============================] - 3s 2ms/step - loss: 0.0013 - accuracy: 0.9998 - val_loss: 17.9533 - val_accuracy: 0.7773\n",
      "Epoch 84/100\n",
      "2094/2094 [==============================] - 3s 2ms/step - loss: 6.9117e-04 - accuracy: 0.9999 - val_loss: 17.8414 - val_accuracy: 0.7798\n",
      "Epoch 85/100\n",
      "2094/2094 [==============================] - 3s 2ms/step - loss: 0.0014 - accuracy: 0.9997 - val_loss: 19.4018 - val_accuracy: 0.7707\n",
      "Epoch 86/100\n",
      "2094/2094 [==============================] - 4s 2ms/step - loss: 0.0073 - accuracy: 0.9997 - val_loss: 20.9400 - val_accuracy: 0.7713\n",
      "Epoch 87/100\n",
      "2094/2094 [==============================] - 3s 2ms/step - loss: 0.0176 - accuracy: 0.9997 - val_loss: 18.4212 - val_accuracy: 0.7713\n",
      "Epoch 88/100\n",
      "2094/2094 [==============================] - 3s 2ms/step - loss: 2.9132e-04 - accuracy: 0.9999 - val_loss: 18.3849 - val_accuracy: 0.7724\n",
      "Epoch 89/100\n",
      "2094/2094 [==============================] - 3s 2ms/step - loss: 8.0222e-04 - accuracy: 0.9998 - val_loss: 17.6586 - val_accuracy: 0.7768\n",
      "Epoch 90/100\n",
      "2094/2094 [==============================] - 4s 2ms/step - loss: 7.2471e-04 - accuracy: 0.9998 - val_loss: 17.3634 - val_accuracy: 0.7767\n",
      "Epoch 91/100\n",
      "2094/2094 [==============================] - 4s 2ms/step - loss: 6.0233e-04 - accuracy: 0.9999 - val_loss: 16.9937 - val_accuracy: 0.7811\n",
      "Epoch 92/100\n",
      "2094/2094 [==============================] - 4s 2ms/step - loss: 8.2403e-04 - accuracy: 0.9997 - val_loss: 17.7432 - val_accuracy: 0.7787\n",
      "Epoch 93/100\n",
      "2094/2094 [==============================] - 3s 2ms/step - loss: 0.0015 - accuracy: 0.9997 - val_loss: 17.9753 - val_accuracy: 0.7770\n",
      "Epoch 94/100\n",
      "2094/2094 [==============================] - 4s 2ms/step - loss: 5.5938e-04 - accuracy: 0.9998 - val_loss: 18.4980 - val_accuracy: 0.7813\n",
      "Epoch 95/100\n",
      "2094/2094 [==============================] - 4s 2ms/step - loss: 4.4688e-04 - accuracy: 0.9998 - val_loss: 18.5155 - val_accuracy: 0.7823\n",
      "Epoch 96/100\n",
      "2094/2094 [==============================] - 3s 2ms/step - loss: 7.0629e-04 - accuracy: 0.9999 - val_loss: 18.8779 - val_accuracy: 0.7834\n",
      "Epoch 97/100\n",
      "2094/2094 [==============================] - 3s 2ms/step - loss: 0.0013 - accuracy: 0.9997 - val_loss: 18.8738 - val_accuracy: 0.7746\n",
      "Epoch 98/100\n",
      "2094/2094 [==============================] - 3s 2ms/step - loss: 4.7590e-04 - accuracy: 0.9998 - val_loss: 19.7366 - val_accuracy: 0.7634\n",
      "Epoch 99/100\n",
      "2094/2094 [==============================] - 3s 2ms/step - loss: 0.0029 - accuracy: 0.9996 - val_loss: 20.2950 - val_accuracy: 0.7636\n",
      "Epoch 100/100\n",
      "2094/2094 [==============================] - 3s 2ms/step - loss: 0.0031 - accuracy: 0.9997 - val_loss: 21.6664 - val_accuracy: 0.7513\n"
     ]
    }
   ],
   "source": [
    "# Train the model\n",
    "history = model.fit(X, y_encoded, validation_data=(X_test, y_test_encoded), epochs=100, batch_size=32)"
   ],
   "metadata": {
    "collapsed": false,
    "ExecuteTime": {
     "start_time": "2023-11-08T23:54:06.689560Z",
     "end_time": "2023-11-08T23:59:59.397389Z"
    }
   }
  },
  {
   "cell_type": "code",
   "execution_count": 22,
   "outputs": [
    {
     "name": "stdout",
     "output_type": "stream",
     "text": [
      "705/705 [==============================] - 1s 1ms/step - loss: 21.6664 - accuracy: 0.7513\n",
      "TEST RESULTS: Loss: 21.666353225708008, Accuracy: 0.7513307332992554\n"
     ]
    }
   ],
   "source": [
    "# Evaluate the model_nn\n",
    "loss, accuracy = model.evaluate(X_test, y_test_encoded, verbose=1)\n",
    "print(f'TEST RESULTS: Loss: {loss}, Accuracy: {accuracy}')"
   ],
   "metadata": {
    "collapsed": false,
    "ExecuteTime": {
     "start_time": "2023-11-09T00:00:39.728703Z",
     "end_time": "2023-11-09T00:00:40.632190Z"
    }
   }
  },
  {
   "cell_type": "code",
   "execution_count": 23,
   "outputs": [
    {
     "name": "stdout",
     "output_type": "stream",
     "text": [
      "705/705 [==============================] - 1s 1ms/step\n"
     ]
    }
   ],
   "source": [
    "y_pred = model.predict(X_test)"
   ],
   "metadata": {
    "collapsed": false,
    "ExecuteTime": {
     "start_time": "2023-11-09T00:03:18.734200Z",
     "end_time": "2023-11-09T00:03:19.872957Z"
    }
   }
  },
  {
   "cell_type": "code",
   "execution_count": 29,
   "outputs": [
    {
     "data": {
      "text/plain": "<IPython.core.display.Markdown object>",
      "text/markdown": "| Class | Precision | Recall | F1 Score | Support |\n| --- | --- | --- | --- | --- |\n| 0 | 0.91 | 0.83 | 0.87 | 7458.0 |\n| 1 | 0.67 | 0.93 | 0.78 | 9711.0 |\n| 2 | 0.73 | 0.64 | 0.68 | 2421.0 |\n| 3 | 0.81 | 0.05 | 0.10 | 2754.0 |\n| 4 | 0.62 | 0.12 | 0.19 | 200.0 |\n| macro avg | 0.75 | 0.51 | 0.52 | 22544.0 |\n| weighted avg | 0.77 | 0.75 | 0.71 | 22544.0 |\n| **Overall** | | | **Accuracy** | 0.75 |\n"
     },
     "metadata": {},
     "output_type": "display_data"
    },
    {
     "data": {
      "text/plain": "<Figure size 640x480 with 2 Axes>",
      "image/png": "[encoded data removed]"
     },
     "metadata": {},
     "output_type": "display_data"
    }
   ],
   "source": [
    "# Convert predictions from one-hot encoded vectors to class labels\n",
    "y_pred_classes = np.argmax(y_pred, axis=1)\n",
    "# Convert one-hot encoded test labels back to class labels\n",
    "y_test_classes = np.argmax(y_test_encoded, axis=1)\n",
    "\n",
    "# Calculate metrics\n",
    "print_classification_report_md(y_test_classes, y_pred_classes)\n",
    "\n",
    "# Confusion matrix\n",
    "disp = ConfusionMatrixDisplay(confusion_matrix=confusion_matrix(y_test_classes, y_pred_classes))\n",
    "disp.plot()\n",
    "plt.grid(False)\n",
    "plt.show()"
   ],
   "metadata": {
    "collapsed": false,
    "ExecuteTime": {
     "start_time": "2023-11-09T00:05:33.072378Z",
     "end_time": "2023-11-09T00:05:33.411815Z"
    }
   }
  },
  {
   "cell_type": "code",
   "execution_count": 31,
   "outputs": [],
   "source": [
    "# Save the model_nn and the scaler\n",
    "model.save('nn_model.keras')"
   ],
   "metadata": {
    "collapsed": false,
    "ExecuteTime": {
     "start_time": "2023-11-09T00:40:17.907675Z",
     "end_time": "2023-11-09T00:40:17.985641Z"
    }
   }
  }
 ],
 "metadata": {
  "kernelspec": {
   "display_name": "Python 3",
   "language": "python",
   "name": "python3"
  },
  "language_info": {
   "codemirror_mode": {
    "name": "ipython",
    "version": 2
   },
   "file_extension": ".py",
   "mimetype": "text/x-python",
   "name": "python",
   "nbconvert_exporter": "python",
   "pygments_lexer": "ipython2",
   "version": "2.7.6"
  }
 },
 "nbformat": 4,
 "nbformat_minor": 0
}
