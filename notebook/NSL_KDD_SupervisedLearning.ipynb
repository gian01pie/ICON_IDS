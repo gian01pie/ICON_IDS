{
 "nbformat": 4,
 "nbformat_minor": 0,
 "metadata": {
  "colab": {
   "provenance": []
  },
  "kernelspec": {
   "name": "python3",
   "language": "python",
   "display_name": "Python 3 (ipykernel)"
  },
  "language_info": {
   "name": "python"
  }
 },
 "cells": [
  {
   "cell_type": "code",
   "source": [
    "import pandas as pd\n",
    "import numpy as np\n",
    "import matplotlib.pyplot as plt\n",
    "import seaborn as sns\n",
    "from sklearn.model_selection import GridSearchCV, StratifiedKFold, cross_val_score\n",
    "from sklearn.metrics import classification_report, confusion_matrix, ConfusionMatrixDisplay, make_scorer, precision_score, accuracy_score, recall_score, f1_score, roc_auc_score"
   ],
   "metadata": {
    "id": "ArTChuBky5LY",
    "ExecuteTime": {
     "start_time": "2023-11-08T23:20:39.560109Z",
     "end_time": "2023-11-08T23:20:39.577092Z"
    }
   },
   "execution_count": 28,
   "outputs": []
  },
  {
   "cell_type": "code",
   "source": [
    "from IPython.display import Markdown, display\n",
    "\n",
    "def print_classification_report_md(y_true, y_pred):\n",
    "    # Generate classification report\n",
    "    report = classification_report(y_true, y_pred, output_dict=True)\n",
    "\n",
    "    # Build Markdown string for the table\n",
    "    markdown_str = \"| Class | Precision | Recall | F1 Score | Support |\\n| --- | --- | --- | --- | --- |\\n\"\n",
    "    for key, value in report.items():\n",
    "        if key == 'accuracy':\n",
    "            # Skip the accuracy since it's not part of the per-class report\n",
    "            continue\n",
    "        if isinstance(value, dict):  # Check if the value is a metrics dictionary\n",
    "            markdown_str += f\"| {key} | {value['precision']:.2f} | {value['recall']:.2f} | {value['f1-score']:.2f} | {value['support']} |\\n\"\n",
    "\n",
    "    # Print the overall accuracy as well\n",
    "    overall_accuracy = report.get('accuracy', None)\n",
    "    if overall_accuracy is not None:\n",
    "        markdown_str += f\"| **Overall** | | | **Accuracy** | {overall_accuracy:.2f} |\\n\"\n",
    "\n",
    "    # Display using Markdown\n",
    "    display(Markdown(markdown_str))"
   ],
   "metadata": {
    "id": "_f0YGbd69-Lk",
    "ExecuteTime": {
     "start_time": "2023-11-08T23:20:41.918111Z",
     "end_time": "2023-11-08T23:20:41.936817Z"
    }
   },
   "execution_count": 29,
   "outputs": []
  },
  {
   "cell_type": "code",
   "execution_count": 30,
   "metadata": {
    "id": "tq5fbm9hyLqV",
    "ExecuteTime": {
     "start_time": "2023-11-08T23:20:44.289020Z",
     "end_time": "2023-11-08T23:20:45.558571Z"
    }
   },
   "outputs": [],
   "source": [
    "train_set_url_20_balanced = \"data/KDDTrain_20%_balanced.csv\"\n",
    "test_set_url_20 = \"data/KDDTest_for20%_processed.csv\"\n",
    "\n",
    "df_train = pd.read_csv(train_set_url_20_balanced)\n",
    "df_test = pd.read_csv(test_set_url_20)\n",
    "\n",
    "# Split the dataset into features and target\n",
    "X = df_train.drop('attack_class', axis=1)\n",
    "y = df_train['attack_class']\n",
    "\n",
    "X_test = df_test.drop('attack_class', axis=1)\n",
    "y_test = df_test['attack_class']"
   ]
  },
  {
   "cell_type": "code",
   "source": [
    "# Define k-fold cross-validation\n",
    "kfold = StratifiedKFold(n_splits=5, shuffle=True, random_state=42)\n",
    "\n",
    "# Define the scoring function\n",
    "scoring = make_scorer(f1_score, zero_division=0, average='weighted')"
   ],
   "metadata": {
    "id": "Dt6mazm8zyEb",
    "ExecuteTime": {
     "start_time": "2023-11-08T23:20:49.919784Z",
     "end_time": "2023-11-08T23:20:49.942124Z"
    }
   },
   "execution_count": 31,
   "outputs": []
  },
  {
   "cell_type": "markdown",
   "source": [
    "## Decision Tree"
   ],
   "metadata": {
    "id": "jY-BU1lkAPFR"
   }
  },
  {
   "cell_type": "code",
   "source": [
    "from sklearn.tree import DecisionTreeClassifier\n",
    "\n",
    "# DECISION TREE\n",
    "\n",
    "# Define the model\n",
    "decision_tree = DecisionTreeClassifier(random_state=42)\n",
    "\n",
    "# Decision Tree hyperparameters grid\n",
    "param_grid_dt = {\n",
    "    'criterion': ['gini', 'entropy'],\n",
    "    'max_depth': [None, 10, 50],\n",
    "    'min_samples_split': [2, 10],\n",
    "    'min_samples_leaf': [1, 4]\n",
    "}\n",
    "\n",
    "# Grid Search with Cross-Validation\n",
    "grid_search_dt = GridSearchCV(estimator=decision_tree, param_grid=param_grid_dt, scoring=scoring, n_jobs=-1, cv=kfold, verbose=3)\n",
    "grid_search_dt.fit(X, y)\n",
    "\n",
    "# Best parameters and best score\n",
    "print(\"Best parameters found: \", grid_search_dt.best_params_)\n",
    "print(\"Best cross-validated f1 score: \", grid_search_dt.best_score_)"
   ],
   "metadata": {
    "colab": {
     "base_uri": "https://localhost:8080/"
    },
    "id": "G185OasXz73U",
    "outputId": "c6521a0f-faaa-42c1-e5bb-438c8751108b",
    "ExecuteTime": {
     "start_time": "2023-11-08T23:20:52.969113Z",
     "end_time": "2023-11-08T23:21:31.251846Z"
    }
   },
   "execution_count": 32,
   "outputs": [
    {
     "name": "stdout",
     "output_type": "stream",
     "text": [
      "Fitting 5 folds for each of 24 candidates, totalling 120 fits\n",
      "Best parameters found:  {'criterion': 'gini', 'max_depth': None, 'min_samples_leaf': 1, 'min_samples_split': 2}\n",
      "Best cross-validated f1 score:  0.9983732104833827\n"
     ]
    }
   ]
  },
  {
   "cell_type": "code",
   "source": [
    "# Get the best estimator\n",
    "best_estimator_dt = grid_search_dt.best_estimator_\n",
    "\n",
    "# Prediction\n",
    "y_pred = best_estimator_dt.predict(X_test)\n",
    "\n",
    "# Calculate metrics\n",
    "print_classification_report_md(y_test, y_pred)\n",
    "\n",
    "# Confusion matrix\n",
    "conf_matrix = confusion_matrix(y_test, y_pred)\n",
    "disp = ConfusionMatrixDisplay(confusion_matrix=conf_matrix)\n",
    "disp.plot()\n",
    "plt.grid(False)\n",
    "plt.show()"
   ],
   "metadata": {
    "colab": {
     "base_uri": "https://localhost:8080/",
     "height": 732
    },
    "id": "OBw_T28G5vQB",
    "outputId": "16f88a6f-9ce7-4dbd-952d-65fe9585f17c",
    "ExecuteTime": {
     "start_time": "2023-11-08T23:22:11.471291Z",
     "end_time": "2023-11-08T23:22:11.838443Z"
    }
   },
   "execution_count": 34,
   "outputs": [
    {
     "data": {
      "text/plain": "<IPython.core.display.Markdown object>",
      "text/markdown": "| Class | Precision | Recall | F1 Score | Support |\n| --- | --- | --- | --- | --- |\n| 0 | 0.96 | 0.78 | 0.86 | 7458.0 |\n| 1 | 0.69 | 0.92 | 0.79 | 9711.0 |\n| 2 | 0.56 | 0.75 | 0.64 | 2421.0 |\n| 3 | 0.38 | 0.05 | 0.09 | 2754.0 |\n| 4 | 0.05 | 0.01 | 0.01 | 200.0 |\n| macro avg | 0.53 | 0.50 | 0.48 | 22544.0 |\n| weighted avg | 0.72 | 0.74 | 0.70 | 22544.0 |\n| **Overall** | | | **Accuracy** | 0.74 |\n"
     },
     "metadata": {},
     "output_type": "display_data"
    },
    {
     "data": {
      "text/plain": "<Figure size 640x480 with 2 Axes>",
      "image/png": "[encoded data removed]"
     },
     "metadata": {},
     "output_type": "display_data"
    }
   ]
  },
  {
   "cell_type": "code",
   "execution_count": 35,
   "outputs": [
    {
     "data": {
      "text/plain": "['decision_tree_model.joblib']"
     },
     "execution_count": 35,
     "metadata": {},
     "output_type": "execute_result"
    }
   ],
   "source": [
    "from joblib import dump\n",
    "\n",
    "# Save the model to a file\n",
    "dump(best_estimator_dt, 'decision_tree_model.joblib')"
   ],
   "metadata": {
    "collapsed": false,
    "ExecuteTime": {
     "start_time": "2023-11-08T23:22:19.418898Z",
     "end_time": "2023-11-08T23:22:19.454168Z"
    }
   }
  },
  {
   "cell_type": "markdown",
   "source": [
    "## KNN"
   ],
   "metadata": {
    "id": "OGQBFpR7ASqq"
   }
  },
  {
   "cell_type": "code",
   "source": [
    "from sklearn.neighbors import KNeighborsClassifier\n",
    "\n",
    "# Define the model\n",
    "knn = KNeighborsClassifier()\n",
    "\n",
    "# Define the parameter grid to search\n",
    "param_grid_knn = {\n",
    "    'n_neighbors': [3, 10, 15],  # You can choose more values here based on computational budget\n",
    "    'weights': ['uniform', 'distance'],\n",
    "    'p': [1, 2]  # 1 is Manhattan distance, 2 is Euclidean distance\n",
    "}\n",
    "\n",
    "# Grid Search with Cross-Validation\n",
    "grid_search_knn = GridSearchCV(estimator=knn, param_grid=param_grid_knn, scoring=scoring, n_jobs=-1, cv=kfold, verbose=3)\n",
    "grid_search_knn.fit(X, y)\n",
    "\n",
    "# Best parameters and best score\n",
    "print(\"Best parameters found: \", grid_search_knn.best_params_)\n",
    "print(\"Best cross-validated f1 score: \", grid_search_knn.best_score_)"
   ],
   "metadata": {
    "colab": {
     "base_uri": "https://localhost:8080/",
     "height": 408
    },
    "id": "TQ7hTAHRAUul",
    "outputId": "ac4fa09f-0198-4362-f874-d5a1b41862b6",
    "ExecuteTime": {
     "start_time": "2023-11-08T19:51:14.343450Z",
     "end_time": "2023-11-08T20:03:40.710643Z"
    }
   },
   "execution_count": 6,
   "outputs": [
    {
     "name": "stdout",
     "output_type": "stream",
     "text": [
      "Fitting 5 folds for each of 12 candidates, totalling 60 fits\n",
      "Best parameters found:  {'n_neighbors': 3, 'p': 1, 'weights': 'distance'}\n",
      "Best cross-validated f1 score:  0.9997910407945568\n"
     ]
    }
   ]
  },
  {
   "cell_type": "code",
   "source": [
    "# Get the best estimator\n",
    "best_estimator_knn = grid_search_knn.best_estimator_\n",
    "\n",
    "# Prediction\n",
    "y_pred = best_estimator_knn.predict(X_test)\n",
    "\n",
    "# Calculate metrics\n",
    "print_classification_report_md(y_test, y_pred)\n",
    "\n",
    "# Confusion matrix\n",
    "disp = ConfusionMatrixDisplay(confusion_matrix=confusion_matrix(y_test, y_pred))\n",
    "disp.plot()\n",
    "plt.grid(False)\n",
    "plt.show()"
   ],
   "metadata": {
    "id": "FWp4qYDoBUY6",
    "ExecuteTime": {
     "start_time": "2023-11-08T22:03:20.739812Z",
     "end_time": "2023-11-08T22:04:08.546970Z"
    }
   },
   "execution_count": 22,
   "outputs": [
    {
     "data": {
      "text/plain": "<IPython.core.display.Markdown object>",
      "text/markdown": "| Class | Precision | Recall | F1 Score | Support |\n| --- | --- | --- | --- | --- |\n| 0 | 0.96 | 0.79 | 0.87 | 7458.0 |\n| 1 | 0.68 | 0.97 | 0.80 | 9711.0 |\n| 2 | 0.80 | 0.69 | 0.74 | 2421.0 |\n| 3 | 0.40 | 0.06 | 0.11 | 2754.0 |\n| 4 | 0.73 | 0.12 | 0.21 | 200.0 |\n| macro avg | 0.72 | 0.53 | 0.54 | 22544.0 |\n| weighted avg | 0.75 | 0.76 | 0.73 | 22544.0 |\n| **Overall** | | | **Accuracy** | 0.76 |\n"
     },
     "metadata": {},
     "output_type": "display_data"
    },
    {
     "data": {
      "text/plain": "<Figure size 640x480 with 2 Axes>",
      "image/png": "[encoded data removed]"
     },
     "metadata": {},
     "output_type": "display_data"
    }
   ]
  },
  {
   "cell_type": "code",
   "execution_count": 23,
   "outputs": [
    {
     "data": {
      "text/plain": "['knn_model.joblib']"
     },
     "execution_count": 23,
     "metadata": {},
     "output_type": "execute_result"
    }
   ],
   "source": [
    "from joblib import dump\n",
    "\n",
    "# Save the model to a file\n",
    "dump(best_estimator_knn, 'knn_model.joblib')"
   ],
   "metadata": {
    "collapsed": false,
    "ExecuteTime": {
     "start_time": "2023-11-08T22:04:20.465383Z",
     "end_time": "2023-11-08T22:04:20.505335Z"
    }
   }
  },
  {
   "cell_type": "markdown",
   "source": [
    "## Naive Bayes"
   ],
   "metadata": {
    "id": "QCQvoCsYB082"
   }
  },
  {
   "cell_type": "code",
   "source": [
    "from sklearn.naive_bayes import GaussianNB\n",
    "\n",
    "# Define the Naive Bayes classifier\n",
    "nb_classifier = GaussianNB()\n",
    "\n",
    "# Define the parameter grid to search\n",
    "param_grid_nb = {'var_smoothing': [1e-9, 1e-8, 1e-7, 1e-6, 1e-5]}\n",
    "\n",
    "# Grid Search with Cross-Validation\n",
    "grid_search_nb = GridSearchCV(estimator=nb_classifier, param_grid=param_grid_nb, scoring=scoring, n_jobs=-1, cv=kfold, verbose=3)\n",
    "grid_search_nb.fit(X, y)\n",
    "\n",
    "# Best parameters and best score\n",
    "print(\"Best parameters found: \", grid_search_nb.best_params_)\n",
    "print(\"Best cross-validated f1 score: \", grid_search_nb.best_score_)"
   ],
   "metadata": {
    "colab": {
     "base_uri": "https://localhost:8080/"
    },
    "id": "XmWgS8H8B488",
    "outputId": "8c1e35cb-f834-4f94-eba3-4b376dab1373",
    "ExecuteTime": {
     "start_time": "2023-11-08T20:16:56.205031Z",
     "end_time": "2023-11-08T20:17:01.350298Z"
    }
   },
   "execution_count": 8,
   "outputs": [
    {
     "name": "stdout",
     "output_type": "stream",
     "text": [
      "Fitting 5 folds for each of 5 candidates, totalling 25 fits\n",
      "Best parameters found:  {'var_smoothing': 1e-07}\n",
      "Best cross-validated f1 score:  0.848465775295048\n"
     ]
    }
   ]
  },
  {
   "cell_type": "code",
   "source": [
    "# Get the best estimator\n",
    "best_estimator_nb = grid_search_nb.best_estimator_\n",
    "\n",
    "# Prediction\n",
    "y_pred = best_estimator_nb.predict(X_test)\n",
    "\n",
    "# Calculate metrics\n",
    "print_classification_report_md(y_test, y_pred)\n",
    "\n",
    "# Confusion matrix\n",
    "disp = ConfusionMatrixDisplay(confusion_matrix=confusion_matrix(y_test, y_pred))\n",
    "disp.plot()\n",
    "plt.grid(False)\n",
    "plt.show()"
   ],
   "metadata": {
    "colab": {
     "base_uri": "https://localhost:8080/",
     "height": 732
    },
    "id": "2Y8njCH6EJ7g",
    "outputId": "409625fe-aa32-4a6d-9edc-7d91eefefd41",
    "ExecuteTime": {
     "start_time": "2023-11-08T22:01:51.059952Z",
     "end_time": "2023-11-08T22:01:51.405522Z"
    }
   },
   "execution_count": 21,
   "outputs": [
    {
     "data": {
      "text/plain": "<IPython.core.display.Markdown object>",
      "text/markdown": "| Class | Precision | Recall | F1 Score | Support |\n| --- | --- | --- | --- | --- |\n| 0 | 0.89 | 0.49 | 0.63 | 7458.0 |\n| 1 | 0.74 | 0.93 | 0.82 | 9711.0 |\n| 2 | 0.39 | 0.60 | 0.47 | 2421.0 |\n| 3 | 0.56 | 0.42 | 0.48 | 2754.0 |\n| 4 | 0.07 | 0.14 | 0.09 | 200.0 |\n| macro avg | 0.53 | 0.51 | 0.50 | 22544.0 |\n| weighted avg | 0.72 | 0.68 | 0.67 | 22544.0 |\n| **Overall** | | | **Accuracy** | 0.68 |\n"
     },
     "metadata": {},
     "output_type": "display_data"
    },
    {
     "data": {
      "text/plain": "<Figure size 640x480 with 2 Axes>",
      "image/png": "[encoded data removed]"
     },
     "metadata": {},
     "output_type": "display_data"
    }
   ]
  },
  {
   "cell_type": "code",
   "execution_count": 36,
   "outputs": [
    {
     "data": {
      "text/plain": "['naive_bayes_model.joblib']"
     },
     "execution_count": 36,
     "metadata": {},
     "output_type": "execute_result"
    }
   ],
   "source": [
    "from joblib import dump\n",
    "\n",
    "# Save the model to a file\n",
    "dump(best_estimator_nb, 'naive_bayes_model.joblib')"
   ],
   "metadata": {
    "collapsed": false,
    "ExecuteTime": {
     "start_time": "2023-11-09T00:48:30.849630Z",
     "end_time": "2023-11-09T00:48:30.874995Z"
    }
   }
  },
  {
   "cell_type": "markdown",
   "source": [
    "## Logistic Regression"
   ],
   "metadata": {
    "id": "l-HnPq0wEted"
   }
  },
  {
   "cell_type": "code",
   "source": [
    "from sklearn.linear_model import LogisticRegression\n",
    "\n",
    "lr = LogisticRegression(random_state=42)\n",
    "\n",
    "# Define the parameter grid to search\n",
    "param_grid_lr = {\n",
    "    'C': [0.1, 1.0, 10],  # Regularization strength\n",
    "    'solver': ['newton-cg', 'lbfgs', 'liblinear'],  # Algorithm to use in the optimization problem\n",
    "    'max_iter': [100, 200]  # Maximum number of iterations taken for the solvers to converge\n",
    "}\n",
    "\n",
    "# Grid Search with Cross-Validation\n",
    "grid_search_lr = GridSearchCV(estimator=lr, param_grid=param_grid_lr, scoring=scoring, n_jobs=-1, cv=kfold, verbose=3)\n",
    "grid_search_lr.fit(X, y)\n",
    "\n",
    "# Best parameters and best score\n",
    "print(\"Best parameters found: \", grid_search_lr.best_params_)\n",
    "print(\"Best cross-validated f1 score: \", grid_search_lr.best_score_)"
   ],
   "metadata": {
    "colab": {
     "base_uri": "https://localhost:8080/",
     "height": 408
    },
    "id": "KsHKo0DfEvQp",
    "outputId": "8ee4f486-3598-41e6-c006-84a0995da0d8",
    "ExecuteTime": {
     "start_time": "2023-11-08T20:26:17.217680Z",
     "end_time": "2023-11-08T20:36:37.409071Z"
    }
   },
   "execution_count": 16,
   "outputs": [
    {
     "name": "stdout",
     "output_type": "stream",
     "text": [
      "Fitting 5 folds for each of 18 candidates, totalling 90 fits\n",
      "Best parameters found:  {'C': 10, 'max_iter': 100, 'solver': 'newton-cg'}\n",
      "Best cross-validated f1 score:  0.9878349627002981\n"
     ]
    }
   ]
  },
  {
   "cell_type": "code",
   "source": [
    "# Get the best estimator\n",
    "best_estimator_lr = grid_search_lr.best_estimator_\n",
    "\n",
    "# Prediction\n",
    "y_pred = best_estimator_lr.predict(X_test)\n",
    "\n",
    "# Calculate metrics\n",
    "print_classification_report_md(y_test, y_pred)\n",
    "\n",
    "# Confusion matrix\n",
    "disp = ConfusionMatrixDisplay(confusion_matrix=confusion_matrix(y_test, y_pred))\n",
    "disp.plot()\n",
    "plt.grid(False)\n",
    "plt.show()"
   ],
   "metadata": {
    "id": "l5Wy0fe1FXGW",
    "ExecuteTime": {
     "start_time": "2023-11-08T22:05:17.181675Z",
     "end_time": "2023-11-08T22:05:17.522455Z"
    }
   },
   "execution_count": 24,
   "outputs": [
    {
     "data": {
      "text/plain": "<IPython.core.display.Markdown object>",
      "text/markdown": "| Class | Precision | Recall | F1 Score | Support |\n| --- | --- | --- | --- | --- |\n| 0 | 0.91 | 0.83 | 0.87 | 7458.0 |\n| 1 | 0.70 | 0.92 | 0.80 | 9711.0 |\n| 2 | 0.84 | 0.74 | 0.79 | 2421.0 |\n| 3 | 0.76 | 0.26 | 0.39 | 2754.0 |\n| 4 | 0.53 | 0.13 | 0.21 | 200.0 |\n| macro avg | 0.75 | 0.57 | 0.61 | 22544.0 |\n| weighted avg | 0.79 | 0.78 | 0.76 | 22544.0 |\n| **Overall** | | | **Accuracy** | 0.78 |\n"
     },
     "metadata": {},
     "output_type": "display_data"
    },
    {
     "data": {
      "text/plain": "<Figure size 640x480 with 2 Axes>",
      "image/png": "[encoded data removed]"
     },
     "metadata": {},
     "output_type": "display_data"
    }
   ]
  },
  {
   "cell_type": "code",
   "execution_count": 25,
   "outputs": [
    {
     "data": {
      "text/plain": "['logistic_regression_model.joblib']"
     },
     "execution_count": 25,
     "metadata": {},
     "output_type": "execute_result"
    }
   ],
   "source": [
    "from joblib import dump\n",
    "\n",
    "# Save the model to a file\n",
    "dump(best_estimator_lr, 'logistic_regression_model.joblib')"
   ],
   "metadata": {
    "collapsed": false,
    "ExecuteTime": {
     "start_time": "2023-11-08T22:06:41.812339Z",
     "end_time": "2023-11-08T22:06:41.834307Z"
    }
   }
  },
  {
   "cell_type": "markdown",
   "source": [
    "## SVM"
   ],
   "metadata": {
    "id": "5OT1VVwpFkm5"
   }
  },
  {
   "cell_type": "code",
   "source": [
    "from sklearn.svm import SVC\n",
    "\n",
    "svc = SVC(random_state=42)\n",
    "\n",
    "params_grid_svc = {\n",
    "    'C': [0.1, 1],  # Regularization parameter\n",
    "    'kernel': ['linear', 'poly', 'rbf'],  # Type of SVM kernel\n",
    "    'gamma': ['scale', 'auto'],  # Kernel coefficient\n",
    "}\n",
    "\n",
    "# Grid Search with Cross-Validation\n",
    "grid_search_svc = GridSearchCV(estimator=svc, param_grid=params_grid_svc, scoring=scoring, n_jobs=-1, cv=kfold, verbose=3)\n",
    "grid_search_svc.fit(X, y)\n",
    "\n",
    "# Best parameters and best score\n",
    "print(\"Best parameters found: \", grid_search_svc.best_params_)\n",
    "print(\"Best cross-validated f1 score: \", grid_search_svc.best_score_)"
   ],
   "metadata": {
    "colab": {
     "base_uri": "https://localhost:8080/"
    },
    "id": "BAZEqcYuFkH7",
    "outputId": "e0408d1e-b768-4ef7-b42e-dc145153c0ea"
   },
   "execution_count": null,
   "outputs": []
  },
  {
   "cell_type": "code",
   "source": [
    "# Get the best estimator\n",
    "best_estimator_svc = grid_search_svc.best_estimator_\n",
    "\n",
    "# Prediction\n",
    "y_pred = best_estimator_svc.predict(X_test)\n",
    "\n",
    "# Calculate metrics\n",
    "print_classification_report_md(y_test, y_pred)\n",
    "\n",
    "# Confusion matrix\n",
    "disp = ConfusionMatrixDisplay(confusion_matrix=confusion_matrix(y_test, y_pred))\n",
    "disp.plot()\n",
    "plt.grid(False)\n",
    "plt.show()"
   ],
   "metadata": {
    "id": "zNeZGrEJFnY9"
   },
   "execution_count": null,
   "outputs": []
  },
  {
   "cell_type": "code",
   "execution_count": null,
   "outputs": [],
   "source": [
    "from joblib import dump\n",
    "\n",
    "# Save the model to a file\n",
    "dump(best_estimator_svc, 'svc_model.joblib')"
   ],
   "metadata": {
    "collapsed": false
   }
  },
  {
   "cell_type": "markdown",
   "source": [
    "## Random Forest"
   ],
   "metadata": {
    "id": "G3xiHJ3oFoGh"
   }
  },
  {
   "cell_type": "code",
   "source": [
    "from sklearn.ensemble import RandomForestClassifier\n",
    "\n",
    "rf_clf = RandomForestClassifier(random_state=42)\n",
    "\n",
    "param_grid_rf = {\n",
    "    'n_estimators': [10, 100, 200],\n",
    "    'max_depth': [None, 10, 50],\n",
    "    'criterion' :['gini', 'entropy'],\n",
    "    'min_samples_split': [2, 10, 15]\n",
    "}\n",
    "\n",
    "# Set up GridSearchCV for Random Forest\n",
    "grid_search_rf = GridSearchCV(estimator=rf_clf, param_grid=param_grid_rf, cv=kfold, scoring=scoring, n_jobs=-1, verbose=3)\n",
    "grid_search_rf.fit(X, y)\n",
    "\n",
    "# Best parameters and best score\n",
    "print(\"Best parameters found: \", grid_search_rf.best_params_)\n",
    "print(\"Best cross-validated f1 score: \", grid_search_rf.best_score_)"
   ],
   "metadata": {
    "id": "Q-IMAj-KFrjR"
   },
   "execution_count": null,
   "outputs": []
  },
  {
   "cell_type": "code",
   "source": [
    "# Get the best estimator\n",
    "best_estimator_rf = grid_search_rf.best_estimator_\n",
    "\n",
    "# Prediction\n",
    "y_pred = best_estimator_rf.predict(X_test)\n",
    "\n",
    "# Calculate metrics\n",
    "print_classification_report_md(y_test, y_pred)\n",
    "\n",
    "# Confusion matrix\n",
    "disp = ConfusionMatrixDisplay(confusion_matrix=confusion_matrix(y_test, y_pred))\n",
    "disp.plot()\n",
    "plt.grid(False)\n",
    "plt.show()"
   ],
   "metadata": {
    "id": "ojNIgTreFr7h"
   },
   "execution_count": null,
   "outputs": []
  },
  {
   "cell_type": "code",
   "execution_count": null,
   "outputs": [],
   "source": [
    "from joblib import dump\n",
    "\n",
    "# Save the model to a file\n",
    "dump(best_estimator_rf, 'random_forest_model.joblib')"
   ],
   "metadata": {
    "collapsed": false
   }
  },
  {
   "cell_type": "markdown",
   "source": [
    "## Ada Boost"
   ],
   "metadata": {
    "id": "GTQBEIqPFtvT"
   }
  },
  {
   "cell_type": "code",
   "source": [
    "from sklearn.ensemble import AdaBoostClassifier\n",
    "\n",
    "adaboost = AdaBoostClassifier()\n",
    "\n",
    "params_grid_adaboost = {\n",
    "    'n_estimators': [50, 100, 200],  # Number of weak learners to train iteratively\n",
    "    'learning_rate': [0.01, 0.1, 1],  # Weight applied to each classifier at each boosting iteration\n",
    "    'estimator': ['DecisionTreeClassifier', 'GaussianNB']\n",
    "}\n",
    "\n",
    "# Set up GridSearchCV for Random Forest\n",
    "grid_search_adaboost = GridSearchCV(estimator=adaboost, param_grid=params_grid_adaboost, cv=kfold, scoring=scoring, n_jobs=-1, verbose=3)\n",
    "grid_search_adaboost.fit(X, y)\n",
    "\n",
    "# Best parameters and best score\n",
    "print(\"Best parameters found: \", grid_search_adaboost.best_params_)\n",
    "print(\"Best cross-validated f1 score: \", grid_search_adaboost.best_score_)"
   ],
   "metadata": {
    "id": "0pW4ZYIlFtQO"
   },
   "execution_count": null,
   "outputs": []
  },
  {
   "cell_type": "code",
   "source": [
    "# Get the best estimator\n",
    "best_estimator_adaboost = grid_search_adaboost.best_estimator_\n",
    "\n",
    "# Prediction\n",
    "y_pred = best_estimator_adaboost.predict(X_test)\n",
    "\n",
    "# Calculate metrics\n",
    "print_classification_report_md(y_test, y_pred)\n",
    "\n",
    "# Confusion matrix\n",
    "disp = ConfusionMatrixDisplay(confusion_matrix=confusion_matrix(y_test, y_pred))\n",
    "disp.plot()\n",
    "plt.grid(False)\n",
    "plt.show()"
   ],
   "metadata": {
    "id": "tvYalLmRFxT2"
   },
   "execution_count": null,
   "outputs": []
  },
  {
   "cell_type": "code",
   "execution_count": null,
   "outputs": [],
   "source": [
    "from joblib import dump\n",
    "\n",
    "# Save the model to a file\n",
    "dump(best_estimator_adaboost, 'adaboost_model.joblib')"
   ],
   "metadata": {
    "collapsed": false
   }
  }
 ]
}
