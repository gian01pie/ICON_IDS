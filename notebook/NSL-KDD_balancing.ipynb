{
  "nbformat": 4,
  "nbformat_minor": 0,
  "metadata": {
    "colab": {
      "provenance": []
    },
    "kernelspec": {
      "name": "python3",
      "display_name": "Python 3"
    },
    "language_info": {
      "name": "python"
    }
  },
  "cells": [
    {
      "cell_type": "code",
      "source": [
        "from google.colab import drive\n",
        "drive.mount('/content/drive')"
      ],
      "metadata": {
        "colab": {
          "base_uri": "https://localhost:8080/"
        },
        "id": "69zb4Nn3cCMo",
        "outputId": "1049108c-45c2-49dc-8917-369e3f2ab2a5"
      },
      "execution_count": null,
      "outputs": [
        {
          "output_type": "stream",
          "name": "stdout",
          "text": [
            "Drive already mounted at /content/drive; to attempt to forcibly remount, call drive.mount(\"/content/drive\", force_remount=True).\n"
          ]
        }
      ]
    },
    {
      "cell_type": "code",
      "source": [
        "from google.colab.data_table import DataTable\n",
        "DataTable.max_columns = 150"
      ],
      "metadata": {
        "id": "vvy4PWTV3rAA"
      },
      "execution_count": null,
      "outputs": []
    },
    {
      "cell_type": "code",
      "source": [
        "import pandas as pd\n",
        "\n",
        "train_set_url = \"/content/drive/MyDrive/dataset/KDDTrain_processed.csv\"\n",
        "test_set_url = \"/content/drive/MyDrive/dataset/KDDTest_processed.csv\"\n",
        "train_set_url_20 = \"/content/drive/MyDrive/dataset/KDDTrain_20%_processed.csv\"\n",
        "test_set_url_20 = \"/content/drive/MyDrive/dataset/KDDTest_for20%_processed.csv\"\n",
        "\n",
        "# Load NSL_KDD train dataset preprocessed\n",
        "df_train_processed = pd.read_csv(train_set_url_20)\n",
        "# Load NSL_KDD test dataset preprocessed\n",
        "df_test_processed = pd.read_csv(test_set_url_20)\n",
        "\n",
        "print(f'TRAIN SET: {df_train_processed.shape}')\n",
        "print(f'TEST SET: {df_test_processed.shape}')"
      ],
      "metadata": {
        "id": "9RJs9sYib7vx",
        "colab": {
          "base_uri": "https://localhost:8080/"
        },
        "outputId": "00168df8-eee2-44e1-ae55-82dd6ab34713"
      },
      "execution_count": null,
      "outputs": [
        {
          "output_type": "stream",
          "name": "stdout",
          "text": [
            "TRAIN SET: (25192, 118)\n",
            "TEST SET: (22544, 118)\n"
          ]
        }
      ]
    },
    {
      "cell_type": "code",
      "source": [
        "# Prepare the feature matrix and target variable for training and test data\n",
        "X_train = df_train_processed.drop(columns=['attack_class'])\n",
        "y_train = df_train_processed['attack_class']\n",
        "X_test = df_test_processed.drop(columns=['attack_class'])\n",
        "y_test = df_test_processed['attack_class']"
      ],
      "metadata": {
        "id": "Cc2vUPSEcjJ3"
      },
      "execution_count": null,
      "outputs": []
    },
    {
      "cell_type": "markdown",
      "source": [
        "# BALANCING DATA"
      ],
      "metadata": {
        "collapsed": false,
        "id": "ks1uinQzVC1y"
      }
    },
    {
      "cell_type": "code",
      "source": [
        "def create_and_save_balanced_dataset(X_resampled, y_resampled, filename):\n",
        "    \"\"\"\n",
        "    Create a balanced dataset from resampled features and labels,\n",
        "    remove duplicates, and save it to a CSV file. Returns the balanced dataset.\n",
        "\n",
        "    Parameters:\n",
        "    X_resampled (DataFrame): Resampled feature set.\n",
        "    y_resampled (Series): Resampled labels corresponding to the features.\n",
        "    filename (str): Name of the file to save the balanced dataset.\n",
        "\n",
        "    Returns:\n",
        "    DataFrame: The balanced dataset.\n",
        "    \"\"\"\n",
        "    # Create a new DataFrame from the resampled features\n",
        "    df_balanced = X_resampled.copy()\n",
        "\n",
        "    # Add the resampled labels as a new column\n",
        "    df_balanced['attack_class'] = y_resampled\n",
        "\n",
        "    # Remove any duplicate rows\n",
        "    df_balanced = df_balanced.drop_duplicates()\n",
        "\n",
        "    # Save the balanced dataset to a CSV file\n",
        "    df_balanced.to_csv(filename, index=False)\n",
        "\n",
        "    print(f\"Balanced dataset saved to {filename}\")\n",
        "\n",
        "    return df_balanced"
      ],
      "metadata": {
        "id": "f0O3WXI7dEZH"
      },
      "execution_count": null,
      "outputs": []
    },
    {
      "cell_type": "code",
      "source": [
        "from imblearn.combine import SMOTEENN\n",
        "\n",
        "smote_enn = SMOTEENN(random_state=0, sampling_strategy='auto')\n",
        "X_res, y_res = smote_enn.fit_resample(X_train, y_train)\n",
        "\n",
        "df_balanced = create_and_save_balanced_dataset(X_res, y_res, \"KDDTrain_balanced.csv\")"
      ],
      "metadata": {
        "colab": {
          "base_uri": "https://localhost:8080/"
        },
        "id": "Qz8umHxrdHI9",
        "outputId": "b4a866d6-b446-431a-9814-d8b815aec2c6"
      },
      "execution_count": null,
      "outputs": [
        {
          "output_type": "stream",
          "name": "stdout",
          "text": [
            "Balanced dataset saved to KDDTrain_balanced.csv\n"
          ]
        }
      ]
    },
    {
      "cell_type": "code",
      "source": [
        "print(f'TRAIN SET: {df_balanced.shape}')\n",
        "print(f'TEST SET: {df_test_processed.shape}')"
      ],
      "metadata": {
        "colab": {
          "base_uri": "https://localhost:8080/"
        },
        "id": "OD5gFIvrI18r",
        "outputId": "56f79082-1865-418a-d7e1-8240adc094cb"
      },
      "execution_count": null,
      "outputs": [
        {
          "output_type": "stream",
          "name": "stdout",
          "text": [
            "TRAIN SET: (67006, 118)\n",
            "TEST SET: (22544, 118)\n"
          ]
        }
      ]
    },
    {
      "cell_type": "markdown",
      "source": [
        "## Showing Balanced"
      ],
      "metadata": {
        "id": "J_HuXnvXX-OP"
      }
    },
    {
      "cell_type": "code",
      "source": [
        "import Utils\n",
        "\n",
        "Utils.plot_pie_chart_distribution(\n",
        "    df=df_balanced,\n",
        "    column='attack_class',\n",
        "    title='Distribuzione delle classi di attacco nel train set bilanciato'\n",
        ")"
      ],
      "metadata": {
        "id": "ULSrzG_xnpLQ",
        "colab": {
          "base_uri": "https://localhost:8080/",
          "height": 675
        },
        "outputId": "aa0d202b-e56f-4f1a-d400-9f93a09accc0"
      },
      "execution_count": null,
      "outputs": [
        {
          "output_type": "display_data",
          "data": {
            "text/plain": [
              "<Figure size 1000x800 with 1 Axes>"
            ],
            "image/png": "[encoded data removed]"
          },
          "metadata": {}
        }
      ]
    },
    {
      "cell_type": "code",
      "source": [
        "df_balanced.shape"
      ],
      "metadata": {
        "colab": {
          "base_uri": "https://localhost:8080/"
        },
        "id": "j4WmvnZq1RhK",
        "outputId": "2d0dea8f-d201-473a-f1e2-bc5b0a8e91e1"
      },
      "execution_count": null,
      "outputs": [
        {
          "output_type": "execute_result",
          "data": {
            "text/plain": [
              "(67006, 118)"
            ]
          },
          "metadata": {},
          "execution_count": 11
        }
      ]
    },
    {
      "cell_type": "markdown",
      "source": [
        "# TRAINING WITH BALANCED\n"
      ],
      "metadata": {
        "id": "LRLB3idunl-i"
      }
    },
    {
      "cell_type": "code",
      "source": [
        "from sklearn.ensemble import RandomForestClassifier\n",
        "from sklearn.metrics import accuracy_score, precision_score, recall_score, f1_score, confusion_matrix\n",
        "\n",
        "def save_feature_importances(rf_classifier, X_train, filename):\n",
        "    \"\"\"\n",
        "    Extract and save feature importances from a Random Forest classifier.\n",
        "\n",
        "    Parameters:\n",
        "    rf_classifier (RandomForestClassifier): Trained Random Forest classifier.\n",
        "    X_train (DataFrame): Training feature matrix used for the classifier.\n",
        "    filename (str): Name of the file to save the feature importances.\n",
        "\n",
        "    Returns:\n",
        "    DataFrame: DataFrame containing feature importances.\n",
        "    \"\"\"\n",
        "    feature_importances = rf_classifier.feature_importances_\n",
        "    features_df = pd.DataFrame({\n",
        "        'Feature': X_train.columns,\n",
        "        'Importance': feature_importances\n",
        "    }).sort_values(by='Importance', ascending=False)\n",
        "\n",
        "    features_df.to_csv(filename, index=True)\n",
        "    return features_df\n",
        "\n",
        "def calculate_metrics(y_true, y_pred):\n",
        "    \"\"\"\n",
        "    Calculate and return various evaluation metrics.\n",
        "\n",
        "    Parameters:\n",
        "    y_true (Series): True labels.\n",
        "    y_pred (Series): Predicted labels.\n",
        "\n",
        "    Returns:\n",
        "    dict: A dictionary containing various evaluation metrics.\n",
        "    \"\"\"\n",
        "    metrics = {\n",
        "        'accuracy': accuracy_score(y_true, y_pred),\n",
        "        'precision': precision_score(y_true, y_pred, average='weighted'),\n",
        "        'recall': recall_score(y_true, y_pred, average='weighted'),\n",
        "        'f1_score': f1_score(y_true, y_pred, average='weighted'),\n",
        "        'confusion_matrix': confusion_matrix(y_true, y_pred)\n",
        "    }\n",
        "\n",
        "    return metrics\n",
        "\n",
        "def print_evaluation_metrics(evaluation_metrics):\n",
        "    for metric, value in evaluation_metrics.items():\n",
        "        if metric == 'confusion_matrix':\n",
        "            print(f\"{metric}:\\n{value}\")\n",
        "        else:\n",
        "            print(f\"{metric}: {value}\")"
      ],
      "metadata": {
        "id": "NSpreGhn-NbO"
      },
      "execution_count": null,
      "outputs": []
    },
    {
      "cell_type": "code",
      "source": [
        "df_balanced = pd.read_csv(\"/content/drive/MyDrive/dataset/KDDTrain_20%_balanced.csv\")"
      ],
      "metadata": {
        "id": "qoOluQfwYQSr"
      },
      "execution_count": null,
      "outputs": []
    },
    {
      "cell_type": "code",
      "source": [
        "X_train_balanced = df_balanced.drop(columns=['attack_class'])\n",
        "y_train_balanced = df_balanced['attack_class']"
      ],
      "metadata": {
        "id": "hJlQUURhhsZa"
      },
      "execution_count": null,
      "outputs": []
    },
    {
      "cell_type": "code",
      "source": [
        "print(X_train_balanced.shape)\n",
        "print(y_train_balanced.shape)\n",
        "print(X_test.shape)\n",
        "print(y_test.shape)"
      ],
      "metadata": {
        "colab": {
          "base_uri": "https://localhost:8080/"
        },
        "id": "6J1SLxYL3i4v",
        "outputId": "5686338f-7b3a-4a85-86e6-a9646a61b1eb"
      },
      "execution_count": null,
      "outputs": [
        {
          "output_type": "stream",
          "name": "stdout",
          "text": [
            "(67006, 117)\n",
            "(67006,)\n",
            "(22544, 117)\n",
            "(22544,)\n"
          ]
        }
      ]
    },
    {
      "cell_type": "code",
      "source": [
        "# Initialize and fit the Random Forest Classifier\n",
        "rf_classifier = RandomForestClassifier(random_state=42)\n",
        "rf_classifier.fit(X_train_balanced, y_train_balanced)\n",
        "\n",
        "# Making predictions\n",
        "y_pred = rf_classifier.predict(X_test)\n",
        "\n",
        "# Calculate metrics\n",
        "evaluation_metrics = calculate_metrics(y_test, y_pred)\n",
        "print_evaluation_metrics(evaluation_metrics)"
      ],
      "metadata": {
        "colab": {
          "base_uri": "https://localhost:8080/"
        },
        "id": "22rNlCvToa70",
        "outputId": "ed594b8c-f14b-4cc4-9182-25cc38c22960"
      },
      "execution_count": null,
      "outputs": [
        {
          "output_type": "stream",
          "name": "stdout",
          "text": [
            "accuracy: 0.751818665720369\n",
            "precision: 0.8140026295274095\n",
            "recall: 0.751818665720369\n",
            "f1_score: 0.7144464619049016\n",
            "confusion_matrix:\n",
            "[[5754 1645   59    0    0]\n",
            " [  66 9455  187    1    2]\n",
            " [ 170  725 1526    0    0]\n",
            " [   0 2540    6  206    2]\n",
            " [   0  173   14    5    8]]\n"
          ]
        }
      ]
    },
    {
      "cell_type": "code",
      "source": [
        "# Save feature importances to CSV\n",
        "feature_importances_df = save_feature_importances(rf_classifier, X_train_balanced, 'features_scores_RF_balanced.csv')\n",
        "\n",
        "# Display the feature importances\n",
        "print(feature_importances_df)"
      ],
      "metadata": {
        "colab": {
          "base_uri": "https://localhost:8080/"
        },
        "id": "09iLoYleeRkn",
        "outputId": "5ca6cf49-5b56-4659-f73c-b09c222d5d48"
      },
      "execution_count": null,
      "outputs": [
        {
          "output_type": "stream",
          "name": "stdout",
          "text": [
            "               Feature  Importance\n",
            "1            src_bytes    0.077226\n",
            "28  dst_host_srv_count    0.061917\n",
            "2            dst_bytes    0.057621\n",
            "9      num_compromised    0.055266\n",
            "8            logged_in    0.049762\n",
            "..                 ...         ...\n",
            "98       service_tim_i    0.000000\n",
            "87       service_red_i    0.000000\n",
            "85     service_printer    0.000000\n",
            "16       is_host_login    0.000000\n",
            "3                 land    0.000000\n",
            "\n",
            "[117 rows x 2 columns]\n"
          ]
        }
      ]
    },
    {
      "cell_type": "markdown",
      "source": [
        "### RF with first N features"
      ],
      "metadata": {
        "id": "Vj49V4WgR5aH"
      }
    },
    {
      "cell_type": "code",
      "execution_count": null,
      "outputs": [
        {
          "output_type": "stream",
          "name": "stdout",
          "text": [
            "accuracy: 0.7485361958836054\n",
            "precision: 0.8125440527017761\n",
            "recall: 0.7485361958836054\n",
            "f1_score: 0.7123046385900159\n",
            "confusion_matrix:\n",
            "[[5713 1665   80    0    0]\n",
            " [  67 9456  186    1    1]\n",
            " [ 181  779 1461    0    0]\n",
            " [   0 2508    5  238    3]\n",
            " [   0  179   12    2    7]]\n"
          ]
        }
      ],
      "source": [
        "# Number of top features selected\n",
        "N = 60\n",
        "# Select the top N important features for training and test sets\n",
        "important_features_rf = feature_importances_df.head(N)['Feature'].values\n",
        "\n",
        "# Train a new Random Forest Classifier on the top N features\n",
        "rf_important_classifier = RandomForestClassifier(random_state=42)\n",
        "\n",
        "# Fit the new classifier on the training data with only the top N important features\n",
        "rf_important_classifier.fit(X_train_balanced[important_features_rf], y_train_balanced)\n",
        "\n",
        "# Make predictions with the new classifier\n",
        "y_pred_important_rf = rf_important_classifier.predict(X_test[important_features_rf])\n",
        "\n",
        "# Calculate metrics\n",
        "evaluation_metrics = calculate_metrics(y_test, y_pred_important_rf)\n",
        "print_evaluation_metrics(evaluation_metrics)"
      ],
      "metadata": {
        "ExecuteTime": {
          "start_time": "2023-11-04T16:57:09.008217Z",
          "end_time": "2023-11-04T16:57:14.143083Z"
        },
        "id": "9_1WaLYoVC1y",
        "colab": {
          "base_uri": "https://localhost:8080/"
        },
        "outputId": "32a92942-54cf-42cb-9648-dde1c7a191eb"
      }
    },
    {
      "cell_type": "code",
      "source": [
        "from sklearn.metrics import classification_report\n",
        "\n",
        "print(classification_report(y_test, y_pred_important_rf))"
      ],
      "metadata": {
        "id": "1IPMUGIRV5bn",
        "colab": {
          "base_uri": "https://localhost:8080/"
        },
        "outputId": "990773f5-2746-4e88-eba9-5e6e25091644"
      },
      "execution_count": null,
      "outputs": [
        {
          "output_type": "stream",
          "name": "stdout",
          "text": [
            "              precision    recall  f1-score   support\n",
            "\n",
            "           0       0.96      0.77      0.85      7458\n",
            "           1       0.65      0.97      0.78      9711\n",
            "           2       0.84      0.60      0.70      2421\n",
            "           3       0.99      0.09      0.16      2754\n",
            "           4       0.64      0.04      0.07       200\n",
            "\n",
            "    accuracy                           0.75     22544\n",
            "   macro avg       0.81      0.49      0.51     22544\n",
            "weighted avg       0.81      0.75      0.71     22544\n",
            "\n"
          ]
        }
      ]
    },
    {
      "cell_type": "markdown",
      "source": [
        "## Dimensionality Reduction with Variance Threshold"
      ],
      "metadata": {
        "id": "XnquToCsRt55"
      }
    },
    {
      "cell_type": "code",
      "source": [
        "from sklearn.feature_selection import VarianceThreshold\n",
        "\n",
        "selector = VarianceThreshold(threshold=0.01)  # Example threshold\n",
        "\n",
        "selector.fit(X_train_balanced)\n",
        "\n",
        "X_train_reduced = selector.transform(X_train_balanced)\n",
        "X_test_reduced = selector.transform(X_test)\n",
        "\n",
        "print(\"Original feature count:\", X_train_balanced.shape[1])\n",
        "print(\"Reduced feature count train:\", X_train_reduced.shape[1])\n",
        "print(\"Reduced feature count test:\", X_test_reduced.shape[1])"
      ],
      "metadata": {
        "id": "g32p41-yPWSK",
        "colab": {
          "base_uri": "https://localhost:8080/"
        },
        "outputId": "5e6cdfbf-fd5d-445a-9b2c-3d592fc43013"
      },
      "execution_count": null,
      "outputs": [
        {
          "output_type": "stream",
          "name": "stdout",
          "text": [
            "Original feature count: 117\n",
            "Reduced feature count train: 53\n",
            "Reduced feature count test: 53\n"
          ]
        }
      ]
    },
    {
      "cell_type": "code",
      "source": [
        "# Initialize and fit the Random Forest Classifier\n",
        "rf_classifier_red = RandomForestClassifier(random_state=42)\n",
        "rf_classifier_red.fit(X_train_reduced, y_train_balanced)\n",
        "\n",
        "# Making predictions\n",
        "y_pred_red = rf_classifier_red.predict(X_test_reduced)\n",
        "\n",
        "# Calculate metrics\n",
        "evaluation_metrics = calculate_metrics(y_test, y_pred_red)\n",
        "print_evaluation_metrics(evaluation_metrics)"
      ],
      "metadata": {
        "id": "8gnIW3i-Pknm",
        "colab": {
          "base_uri": "https://localhost:8080/"
        },
        "outputId": "fb02b6ba-379a-49de-9afe-61820effb7c9"
      },
      "execution_count": null,
      "outputs": [
        {
          "output_type": "stream",
          "name": "stdout",
          "text": [
            "accuracy: 0.7464513839602555\n",
            "precision: 0.8129454791595304\n",
            "recall: 0.7464513839602555\n",
            "f1_score: 0.707226057270565\n",
            "confusion_matrix:\n",
            "[[5717 1703   38    0    0]\n",
            " [  67 9449  193    0    2]\n",
            " [ 169  763 1489    0    0]\n",
            " [   0 2577    6  169    2]\n",
            " [   0  183   12    1    4]]\n"
          ]
        }
      ]
    },
    {
      "cell_type": "code",
      "source": [
        "print(classification_report(y_test, y_pred_red))"
      ],
      "metadata": {
        "id": "a3AayduHWse3",
        "colab": {
          "base_uri": "https://localhost:8080/"
        },
        "outputId": "9f78754b-53c1-492b-d81a-ea905f693a47"
      },
      "execution_count": null,
      "outputs": [
        {
          "output_type": "stream",
          "name": "stdout",
          "text": [
            "              precision    recall  f1-score   support\n",
            "\n",
            "           0       0.96      0.77      0.85      7458\n",
            "           1       0.64      0.97      0.77      9711\n",
            "           2       0.86      0.62      0.72      2421\n",
            "           3       0.99      0.06      0.12      2754\n",
            "           4       0.50      0.02      0.04       200\n",
            "\n",
            "    accuracy                           0.75     22544\n",
            "   macro avg       0.79      0.49      0.50     22544\n",
            "weighted avg       0.81      0.75      0.71     22544\n",
            "\n"
          ]
        }
      ]
    },
    {
      "cell_type": "markdown",
      "source": [
        "# SVM\n"
      ],
      "metadata": {
        "id": "-zzpKpw51cVj"
      }
    },
    {
      "cell_type": "code",
      "source": [
        "# With important Feature\n",
        "from sklearn.svm import SVC\n",
        "\n",
        "# Creating and training the SVM model\n",
        "svm_model = SVC(kernel='linear', gamma='auto')    # Using RBF kernel; you can choose linear, poly, rbf, sigmoid, etc.\n",
        "svm_model.fit(X_train_balanced[important_features_rf], y_train_balanced)\n",
        "\n",
        "# Predicting the Test set results\n",
        "y_pred = svm_model.predict(X_test[important_features_rf])\n",
        "\n",
        "# Calculate metrics\n",
        "evaluation_metrics = calculate_metrics(y_test, y_pred)\n",
        "print_evaluation_metrics(evaluation_metrics)"
      ],
      "metadata": {
        "colab": {
          "base_uri": "https://localhost:8080/"
        },
        "id": "h11GZBKIN7pq",
        "outputId": "04696ff8-defe-4d25-e1e5-481408e6a71b"
      },
      "execution_count": null,
      "outputs": [
        {
          "output_type": "stream",
          "name": "stdout",
          "text": [
            "accuracy: 0.7874378992193045\n",
            "precision: 0.8088785146243763\n",
            "recall: 0.7874378992193045\n",
            "f1_score: 0.7705025508763009\n",
            "confusion_matrix:\n",
            "[[6229 1200   25    4    0]\n",
            " [ 500 8908  250   42   11]\n",
            " [ 314  316 1790    1    0]\n",
            " [   2 1916   16  814    6]\n",
            " [   3  175    0   11   11]]\n"
          ]
        }
      ]
    },
    {
      "cell_type": "code",
      "source": [
        "print(classification_report(y_test, y_pred))"
      ],
      "metadata": {
        "colab": {
          "base_uri": "https://localhost:8080/"
        },
        "id": "7qvTTJ9IOSiN",
        "outputId": "d85b50a6-913f-4b76-9b66-184994c921a2"
      },
      "execution_count": null,
      "outputs": [
        {
          "output_type": "stream",
          "name": "stdout",
          "text": [
            "              precision    recall  f1-score   support\n",
            "\n",
            "           0       0.83      0.93      0.88      7458\n",
            "           1       1.00      1.00      1.00      9711\n",
            "           2       0.80      0.79      0.79      2421\n",
            "           3       0.64      0.45      0.53      2754\n",
            "           4       0.41      0.21      0.28       200\n",
            "\n",
            "    accuracy                           0.88     22544\n",
            "   macro avg       0.73      0.68      0.69     22544\n",
            "weighted avg       0.87      0.88      0.87     22544\n",
            "\n"
          ]
        }
      ]
    },
    {
      "cell_type": "code",
      "source": [
        "# With Reduced Feature\n",
        "from sklearn.svm import SVC\n",
        "\n",
        "# Creating and training the SVM model\n",
        "svm_model = SVC(kernel='linear', gamma='auto')\n",
        "svm_model.fit(X_train_reduced, y_train_balanced)\n",
        "\n",
        "# Predicting the Test set results\n",
        "y_pred = svm_model.predict(X_test_reduced)\n",
        "\n",
        "# Calculate metrics\n",
        "evaluation_metrics = calculate_metrics(y_test, y_pred)\n",
        "print_evaluation_metrics(evaluation_metrics)"
      ],
      "metadata": {
        "id": "5Ztb2axM1nJc",
        "colab": {
          "base_uri": "https://localhost:8080/"
        },
        "outputId": "d8f05e7e-dca9-41e6-d3d6-467b7de26145"
      },
      "execution_count": null,
      "outputs": [
        {
          "output_type": "stream",
          "name": "stdout",
          "text": [
            "accuracy: 0.8787704045422285\n",
            "precision: 0.8694770777485469\n",
            "recall: 0.8787704045422285\n",
            "f1_score: 0.8701636876029514\n",
            "confusion_matrix:\n",
            "[[6970    0   58  430    0]\n",
            " [   0 9711    0    0    0]\n",
            " [ 300    0 1904  217    0]\n",
            " [1219    0  291 1189   55]\n",
            " [   6    0  121   36   37]]\n"
          ]
        }
      ]
    },
    {
      "cell_type": "code",
      "source": [
        "print(classification_report(y_test, y_pred))"
      ],
      "metadata": {
        "id": "BGUFDULg2-2K",
        "colab": {
          "base_uri": "https://localhost:8080/"
        },
        "outputId": "ab084845-7608-4ac1-eaac-066aa3222459"
      },
      "execution_count": null,
      "outputs": [
        {
          "output_type": "stream",
          "name": "stdout",
          "text": [
            "              precision    recall  f1-score   support\n",
            "\n",
            "           0       0.82      0.93      0.87      7458\n",
            "           1       1.00      1.00      1.00      9711\n",
            "           2       0.80      0.79      0.79      2421\n",
            "           3       0.64      0.43      0.51      2754\n",
            "           4       0.40      0.18      0.25       200\n",
            "\n",
            "    accuracy                           0.88     22544\n",
            "   macro avg       0.73      0.67      0.69     22544\n",
            "weighted avg       0.87      0.88      0.87     22544\n",
            "\n"
          ]
        }
      ]
    }
  ]
}