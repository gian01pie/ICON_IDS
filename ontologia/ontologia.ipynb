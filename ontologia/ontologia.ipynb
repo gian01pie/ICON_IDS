{
 "cells": [
  {
   "cell_type": "code",
   "execution_count": 1,
   "metadata": {
    "collapsed": true,
    "ExecuteTime": {
     "start_time": "2023-11-09T16:36:16.501387Z",
     "end_time": "2023-11-09T16:36:16.545820Z"
    }
   },
   "outputs": [],
   "source": [
    "from owlready2 import get_ontology, default_world\n",
    "import pandas as pd\n",
    "\n",
    "csv_path = 'KDDTrain_20%.csv'\n",
    "onto_path = 'ids_ontology.rdf'"
   ]
  },
  {
   "cell_type": "code",
   "execution_count": 2,
   "outputs": [
    {
     "data": {
      "text/plain": "   duration protocol_type   service flag  src_bytes  dst_bytes  land  \\\n0         0           tcp  ftp_data   SF        491          0     0   \n1         0           udp     other   SF        146          0     0   \n2         0           tcp   private   S0          0          0     0   \n3         0           tcp      http   SF        232       8153     0   \n4         0           tcp      http   SF        199        420     0   \n\n   wrong_fragment  urgent  hot  ...  num_root  num_file_creations  num_shells  \\\n0               0       0    0  ...         0                   0           0   \n1               0       0    0  ...         0                   0           0   \n2               0       0    0  ...         0                   0           0   \n3               0       0    0  ...         0                   0           0   \n4               0       0    0  ...         0                   0           0   \n\n   num_access_files  num_outbound_cmds  is_host_login  is_guest_login  count  \\\n0                 0                  0              0               0      2   \n1                 0                  0              0               0     13   \n2                 0                  0              0               0    123   \n3                 0                  0              0               0      5   \n4                 0                  0              0               0     30   \n\n   srv_count   attack  \n0          2   normal  \n1          1   normal  \n2          6  neptune  \n3          5   normal  \n4         32   normal  \n\n[5 rows x 25 columns]",
      "text/html": "<div>\n<style scoped>\n    .dataframe tbody tr th:only-of-type {\n        vertical-align: middle;\n    }\n\n    .dataframe tbody tr th {\n        vertical-align: top;\n    }\n\n    .dataframe thead th {\n        text-align: right;\n    }\n</style>\n<table border=\"1\" class=\"dataframe\">\n  <thead>\n    <tr style=\"text-align: right;\">\n      <th></th>\n      <th>duration</th>\n      <th>protocol_type</th>\n      <th>service</th>\n      <th>flag</th>\n      <th>src_bytes</th>\n      <th>dst_bytes</th>\n      <th>land</th>\n      <th>wrong_fragment</th>\n      <th>urgent</th>\n      <th>hot</th>\n      <th>...</th>\n      <th>num_root</th>\n      <th>num_file_creations</th>\n      <th>num_shells</th>\n      <th>num_access_files</th>\n      <th>num_outbound_cmds</th>\n      <th>is_host_login</th>\n      <th>is_guest_login</th>\n      <th>count</th>\n      <th>srv_count</th>\n      <th>attack</th>\n    </tr>\n  </thead>\n  <tbody>\n    <tr>\n      <th>0</th>\n      <td>0</td>\n      <td>tcp</td>\n      <td>ftp_data</td>\n      <td>SF</td>\n      <td>491</td>\n      <td>0</td>\n      <td>0</td>\n      <td>0</td>\n      <td>0</td>\n      <td>0</td>\n      <td>...</td>\n      <td>0</td>\n      <td>0</td>\n      <td>0</td>\n      <td>0</td>\n      <td>0</td>\n      <td>0</td>\n      <td>0</td>\n      <td>2</td>\n      <td>2</td>\n      <td>normal</td>\n    </tr>\n    <tr>\n      <th>1</th>\n      <td>0</td>\n      <td>udp</td>\n      <td>other</td>\n      <td>SF</td>\n      <td>146</td>\n      <td>0</td>\n      <td>0</td>\n      <td>0</td>\n      <td>0</td>\n      <td>0</td>\n      <td>...</td>\n      <td>0</td>\n      <td>0</td>\n      <td>0</td>\n      <td>0</td>\n      <td>0</td>\n      <td>0</td>\n      <td>0</td>\n      <td>13</td>\n      <td>1</td>\n      <td>normal</td>\n    </tr>\n    <tr>\n      <th>2</th>\n      <td>0</td>\n      <td>tcp</td>\n      <td>private</td>\n      <td>S0</td>\n      <td>0</td>\n      <td>0</td>\n      <td>0</td>\n      <td>0</td>\n      <td>0</td>\n      <td>0</td>\n      <td>...</td>\n      <td>0</td>\n      <td>0</td>\n      <td>0</td>\n      <td>0</td>\n      <td>0</td>\n      <td>0</td>\n      <td>0</td>\n      <td>123</td>\n      <td>6</td>\n      <td>neptune</td>\n    </tr>\n    <tr>\n      <th>3</th>\n      <td>0</td>\n      <td>tcp</td>\n      <td>http</td>\n      <td>SF</td>\n      <td>232</td>\n      <td>8153</td>\n      <td>0</td>\n      <td>0</td>\n      <td>0</td>\n      <td>0</td>\n      <td>...</td>\n      <td>0</td>\n      <td>0</td>\n      <td>0</td>\n      <td>0</td>\n      <td>0</td>\n      <td>0</td>\n      <td>0</td>\n      <td>5</td>\n      <td>5</td>\n      <td>normal</td>\n    </tr>\n    <tr>\n      <th>4</th>\n      <td>0</td>\n      <td>tcp</td>\n      <td>http</td>\n      <td>SF</td>\n      <td>199</td>\n      <td>420</td>\n      <td>0</td>\n      <td>0</td>\n      <td>0</td>\n      <td>0</td>\n      <td>...</td>\n      <td>0</td>\n      <td>0</td>\n      <td>0</td>\n      <td>0</td>\n      <td>0</td>\n      <td>0</td>\n      <td>0</td>\n      <td>30</td>\n      <td>32</td>\n      <td>normal</td>\n    </tr>\n  </tbody>\n</table>\n<p>5 rows × 25 columns</p>\n</div>"
     },
     "execution_count": 2,
     "metadata": {},
     "output_type": "execute_result"
    }
   ],
   "source": [
    "dataset = pd.read_csv(csv_path)\n",
    "\n",
    "# Identify the columns to be removed\n",
    "columns_to_remove = dataset.loc[:, 'serror_rate':'dst_host_srv_rerror_rate'].columns\n",
    "\n",
    "# Drop the specified columns\n",
    "dataset = dataset.drop(columns=columns_to_remove)\n",
    "dataset = dataset.drop(columns=['level'])\n",
    "\n",
    "dataset.head()"
   ],
   "metadata": {
    "collapsed": false,
    "ExecuteTime": {
     "start_time": "2023-11-09T16:36:17.738575Z",
     "end_time": "2023-11-09T16:36:17.852663Z"
    }
   }
  },
  {
   "cell_type": "code",
   "execution_count": 3,
   "outputs": [],
   "source": [
    "# Identify distinct attack types in the CSV file\n",
    "distinct_attacks = dataset['attack'].unique()\n",
    "distinct_attacks.tolist()\n",
    "\n",
    "dos = [\"apache2\",\"back\",\"land\",\"neptune\",\"pod\",\"processtable\",\"smurf\",\"teardrop\",\"udpstorm\",\"worm\"]\n",
    "probe = [\"ipsweep\", \"mscan\", \"nmap\", \"portsweep\", \"saint\", \"satan\"]\n",
    "r2l = [\"ftp_write\", \"guess_password\", \"http_tunnel\", \"imap\", \"multihop\",\n",
    "    \"named\", \"phf\", \"sendmail\", \"snmpgetattack\", \"snmpguess\",\n",
    "    \"spy\", \"warezclient\", \"warezmaster\", \"xlock\", \"xsnoop\"]\n",
    "u2r = [\"buffer_overflow\", \"loadmodule\", \"perl\", \"ps\",\n",
    "    \"rootkit\", \"sqlattack\", \"xterm\"]\n",
    "protocol = [\"icmp\",\"tcp\",\"udp\"]\n",
    "service = [\"auth\", \"bgp\", \"courier\", \"csnet_ns\", \"ctf\", \"daytime\", \"discard\", \"domain\", \"domain_u\", \"echo\", \"eco_i\", \"ecr_i\", \"efs\", \"exec\", \"finger\", \"ftp\", \"ftp_data\", \"gopher\", \"hostnames\", \"http\", \"http_443\", \"http_8001\", \"imap4\", \"IRC\", \"iso_tsap\", \"klogin\", \"kshell\", \"ldap\", \"link\", \"login\", \"mtp\", \"name\", \"netbios_dgm\", \"netbios_ns\", \"netbios_ssn\", \"netstat\", \"nnsp\", \"nntp\", \"ntp_u\", \"other\", \"pm_dump\", \"pop_2\", \"pop_3\", \"printer\", \"private\", \"red_i\", \"remote_job\", \"rje\", \"shell\", \"smtp\", \"sql_net\", \"ssh\", \"sunrpc\", \"supdup\", \"systat\", \"telnet\", \"tim_i\", \"time\", \"urh_i\", \"urp_i\", \"uucp\", \"uucp_path\", \"vmnet\", \"whois\", \"X11\", \"Z39_50\"]"
   ],
   "metadata": {
    "collapsed": false,
    "ExecuteTime": {
     "start_time": "2023-11-09T16:36:19.670927Z",
     "end_time": "2023-11-09T16:36:19.695028Z"
    }
   }
  },
  {
   "cell_type": "code",
   "execution_count": 4,
   "outputs": [],
   "source": [
    "# Load your ontology\n",
    "ontology = get_ontology(onto_path).load()"
   ],
   "metadata": {
    "collapsed": false,
    "ExecuteTime": {
     "start_time": "2023-11-09T16:36:22.308358Z",
     "end_time": "2023-11-09T16:36:22.324569Z"
    }
   }
  },
  {
   "cell_type": "code",
   "execution_count": 5,
   "outputs": [],
   "source": [
    "def creat_individuals(ontology, list_name, class_prefix, name_prefix):\n",
    "    \"\"\"\n",
    "    Create individuals for each attack in the list. Each individual will be of type Dos_<Attack>\n",
    "    and have a name attack_<Attack>.\n",
    "\n",
    "    :param ontology: The loaded ontology.\n",
    "    :param list_name: List of individuals names.\n",
    "    :param class_prefix: prefix of the class\n",
    "    :param name_prefix: prefix of the name\n",
    "    \"\"\"\n",
    "    for item in list_name:\n",
    "        # Format class and individual names\n",
    "        class_name = f\"{class_prefix}_{item}\"\n",
    "        individual_name = f\"{name_prefix}_{item}\"\n",
    "\n",
    "        # Check if the class already exists, if not create it\n",
    "        attack_class = ontology.search_one(iri=f\"*{class_name}\")\n",
    "        if not attack_class:\n",
    "            attack_class = types.new_class(class_name, (ontology.Dos,))\n",
    "\n",
    "        # Create an individual of this class\n",
    "        new_individual = attack_class(individual_name)"
   ],
   "metadata": {
    "collapsed": false,
    "ExecuteTime": {
     "start_time": "2023-11-09T16:36:24.489511Z",
     "end_time": "2023-11-09T16:36:24.502851Z"
    }
   }
  },
  {
   "cell_type": "code",
   "execution_count": 6,
   "outputs": [],
   "source": [
    "creat_individuals(ontology, dos, \"Dos\", \"attack\")\n",
    "creat_individuals(ontology, probe, \"Probe\", \"attack\")\n",
    "creat_individuals(ontology, r2l, \"R2l\", \"attack\")\n",
    "creat_individuals(ontology, u2r, \"U2r\", \"attack\")\n",
    "creat_individuals(ontology, protocol, \"Protocol\", \"protocol\")\n",
    "creat_individuals(ontology, service, \"Service\", \"service\")"
   ],
   "metadata": {
    "collapsed": false,
    "ExecuteTime": {
     "start_time": "2023-11-09T16:36:27.102959Z",
     "end_time": "2023-11-09T16:36:27.156550Z"
    }
   }
  },
  {
   "cell_type": "code",
   "execution_count": 7,
   "outputs": [],
   "source": [
    "# Save the updated ontology\n",
    "ontology.save(file='ids_onto2.rdf', format=\"rdfxml\")"
   ],
   "metadata": {
    "collapsed": false,
    "ExecuteTime": {
     "start_time": "2023-11-09T16:36:32.054574Z",
     "end_time": "2023-11-09T16:36:32.069563Z"
    }
   }
  },
  {
   "cell_type": "code",
   "execution_count": 9,
   "outputs": [],
   "source": [
    "# Select the first row for demonstration\n",
    "row = dataset.iloc[0]\n",
    "\n",
    "# Create a new individual of NetworkTraffic\n",
    "new_individual = ontology.NetworkTraffic()\n",
    "\n",
    "# Assign data properties\n",
    "for column in dataset.columns:\n",
    "    if column not in ['attack', 'protocol_type', 'service']:\n",
    "        data_property_name = f\"NT_{column}\"\n",
    "        # Convert numpy data types to native Python types\n",
    "        value = row[column].item() if hasattr(row[column], 'item') else row[column]\n",
    "        getattr(new_individual, data_property_name).append(value)\n",
    "\n",
    "# Assign object properties\n",
    "if row['attack'] != 'normal':\n",
    "    for individual in ontology.individuals():\n",
    "        if row['attack'] in individual.name:\n",
    "            new_individual.hasAttack.append(individual)\n",
    "            break\n",
    "\n",
    "for individual in ontology.individuals():\n",
    "    if row['protocol_type'] in individual.name:\n",
    "        new_individual.hasProtocolType.append(individual)\n",
    "        break\n",
    "\n",
    "for individual in ontology.individuals():\n",
    "    if row['service'] in individual.name:\n",
    "        new_individual.hasServiceType.append(individual)\n",
    "        break\n",
    "\n",
    "# Save the updated ontology\n",
    "ontology.save(file=\"updated_ontology.owl\", format=\"rdfxml\")"
   ],
   "metadata": {
    "collapsed": false,
    "ExecuteTime": {
     "start_time": "2023-11-09T16:38:28.555232Z",
     "end_time": "2023-11-09T16:38:28.568873Z"
    }
   }
  },
  {
   "cell_type": "code",
   "execution_count": 12,
   "outputs": [],
   "source": [
    "# Iterate over each row in the dataset\n",
    "for index, row in dataset.head(5).iterrows():\n",
    "    # Create a new individual of NetworkTraffic with a unique name\n",
    "    new_individual = ontology.NetworkTraffic(\"nt_\" + str(index))\n",
    "\n",
    "    # Assign data properties\n",
    "    for column in dataset.columns:\n",
    "        if column not in ['attack', 'protocol_type', 'service']:\n",
    "            data_property_name = f\"NT_{column}\"\n",
    "            property_instance = getattr(ontology, data_property_name)\n",
    "            # Convert numpy data types to native Python types\n",
    "            value = row[column].item() if hasattr(row[column], 'item') else row[column]\n",
    "            getattr(new_individual, data_property_name).append(value)\n",
    "\n",
    "    # Assign object properties\n",
    "    if row['attack'] != 'normal':\n",
    "        for individual in ontology.individuals():\n",
    "            if row['attack'] in individual.name:\n",
    "                new_individual.hasAttack.append(individual)\n",
    "                break\n",
    "\n",
    "    for individual in ontology.individuals():\n",
    "        if row['protocol_type'] in individual.name:\n",
    "            new_individual.hasProtocolType.append(individual)\n",
    "            break\n",
    "\n",
    "    for individual in ontology.individuals():\n",
    "        if row['service'] in individual.name:\n",
    "            new_individual.hasServiceType.append(individual)\n",
    "            break\n",
    "\n",
    "# Save the updated ontology\n",
    "ontology.save(file=\"updated_ontology.rdf\", format=\"rdfxml\")"
   ],
   "metadata": {
    "collapsed": false,
    "ExecuteTime": {
     "start_time": "2023-11-09T16:51:58.424756Z",
     "end_time": "2023-11-09T16:52:00.940468Z"
    }
   }
  },
  {
   "cell_type": "code",
   "execution_count": 15,
   "outputs": [
    {
     "ename": "TypeError",
     "evalue": "'NoneType' object is not callable",
     "output_type": "error",
     "traceback": [
      "\u001B[1;31m---------------------------------------------------------------------------\u001B[0m",
      "\u001B[1;31mTypeError\u001B[0m                                 Traceback (most recent call last)",
      "Cell \u001B[1;32mIn[15], line 13\u001B[0m\n\u001B[0;32m     11\u001B[0m \u001B[38;5;124;03m\"\"\"dada\"\"\"\u001B[39;00m\n\u001B[0;32m     12\u001B[0m \u001B[38;5;66;03m# Execute the query\u001B[39;00m\n\u001B[1;32m---> 13\u001B[0m results \u001B[38;5;241m=\u001B[39m \u001B[38;5;28mlist\u001B[39m(\u001B[43montology\u001B[49m\u001B[38;5;241;43m.\u001B[39;49m\u001B[43msparql\u001B[49m\u001B[43m(\u001B[49m\u001B[43mquery\u001B[49m\u001B[43m)\u001B[49m)\n\u001B[0;32m     15\u001B[0m \u001B[38;5;66;03m# Print the results\u001B[39;00m\n\u001B[0;32m     16\u001B[0m \u001B[38;5;28;01mfor\u001B[39;00m item \u001B[38;5;129;01min\u001B[39;00m results:\n",
      "\u001B[1;31mTypeError\u001B[0m: 'NoneType' object is not callable"
     ]
    }
   ],
   "source": [
    "# Define the SPARQL query\n",
    "query = \"\"\"\n",
    "SELECT ?serviceType (AVG(?duration) as ?avgDuration) WHERE {\n",
    "    ?traffic a :NetworkTraffic .\n",
    "    ?traffic :NT_duration ?duration .\n",
    "    ?traffic :hasServiceType ?service .\n",
    "    ?service rdfs:label ?serviceType\n",
    "}\n",
    "GROUP BY ?serviceType\n",
    "\"\"\"\n",
    "\n",
    "# Execute the query\n",
    "results = list(ontology.sparql(query))\n",
    "\n",
    "# Print the results\n",
    "for item in results:\n",
    "    print(item)"
   ],
   "metadata": {
    "collapsed": false
   }
  }
 ],
 "metadata": {
  "kernelspec": {
   "display_name": "Python 3",
   "language": "python",
   "name": "python3"
  },
  "language_info": {
   "codemirror_mode": {
    "name": "ipython",
    "version": 2
   },
   "file_extension": ".py",
   "mimetype": "text/x-python",
   "name": "python",
   "nbconvert_exporter": "python",
   "pygments_lexer": "ipython2",
   "version": "2.7.6"
  }
 },
 "nbformat": 4,
 "nbformat_minor": 0
}
